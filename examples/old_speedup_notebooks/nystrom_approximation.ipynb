{
 "cells": [
  {
   "cell_type": "code",
   "execution_count": 4,
   "metadata": {},
   "outputs": [],
   "source": [
    "import numpy as np\n",
    "import warnings \n",
    "from sklearn.model_selection import train_test_split\n",
    "from sklearn.datasets import make_regression\n",
    "import scipy as scio\n",
    "from scipy.spatial.distance import pdist\n",
    "from scipy.linalg import cho_factor, cho_solve, cholesky\n",
    "from sklearn.metrics.pairwise import rbf_kernel, pairwise_kernels\n",
    "from sklearn.metrics import mean_squared_error\n",
    "from sklearn.utils import check_array, check_random_state\n",
    "from sklearn.linear_model.ridge import _solve_cholesky_kernel as kernel_solve\n",
    "from time import time\n",
    "from sklearn.decomposition import TruncatedSVD\n",
    "from sklearn.utils.extmath import randomized_svd\n",
    "import fbpca\n",
    "\n",
    "%matplotlib inline\n",
    "import matplotlib.pyplot as plt\n",
    "\n",
    "warnings.filterwarnings('ignore')"
   ]
  },
  {
   "cell_type": "markdown",
   "metadata": {},
   "source": [
    "## Resources"
   ]
  },
  {
   "cell_type": "markdown",
   "metadata": {},
   "source": [
    "#### Original Formulation\n",
    "\n"
   ]
  },
  {
   "cell_type": "markdown",
   "metadata": {},
   "source": [
    "## Generate Data"
   ]
  },
  {
   "cell_type": "code",
   "execution_count": 5,
   "metadata": {},
   "outputs": [
    {
     "name": "stdout",
     "output_type": "stream",
     "text": [
      "Size of data: (4435, 36)\n"
     ]
    }
   ],
   "source": [
    "# Import dataset\n",
    "from scipy.io import loadmat\n",
    "import requests\n",
    "\n",
    "data_url = 'https://github.com/mli/nystrom/raw/master/satimage.mat'\n",
    "r = requests.get(data_url, allow_redirects=True)\n",
    "open('satire.mat', 'wb').write(r.content)\n",
    "\n",
    "data = scio.io.loadmat('satire.mat')['D'].toarray()\n",
    "print('Size of data: {}'.format(data.shape))\n",
    "\n",
    "n_samples = data.shape[0]\n",
    "random_state = 123"
   ]
  },
  {
   "cell_type": "markdown",
   "metadata": {},
   "source": [
    "## Nystrom Approximation of a Kernel Matrix"
   ]
  },
  {
   "cell_type": "markdown",
   "metadata": {},
   "source": [
    "#### Kernel Matrix of Data"
   ]
  },
  {
   "cell_type": "code",
   "execution_count": 6,
   "metadata": {},
   "outputs": [
    {
     "name": "stdout",
     "output_type": "stream",
     "text": [
      "Size of Kernel matrix:  (4435, 4435)\n"
     ]
    }
   ],
   "source": [
    "sigma = np.mean(pdist(data, metric='euclidean'))\n",
    "gamma = 1 / (2 * sigma**2)\n",
    "n_jobs = 1\n",
    "kernel = 'rbf'\n",
    "\n",
    "K = pairwise_kernels(data, metric=kernel, n_jobs=n_jobs, gamma=gamma)\n",
    "print('Size of Kernel matrix: ', K.shape)"
   ]
  },
  {
   "cell_type": "code",
   "execution_count": 7,
   "metadata": {},
   "outputs": [
    {
     "name": "stdout",
     "output_type": "stream",
     "text": [
      "398 ms ± 15.1 ms per loop (mean ± std. dev. of 7 runs, 1 loop each)\n",
      "390 ms ± 21.6 ms per loop (mean ± std. dev. of 7 runs, 1 loop each)\n"
     ]
    }
   ],
   "source": [
    "%timeit pairwise_kernels(data, metric=kernel, n_jobs=1, gamma=gamma)\n",
    "%timeit rbf_kernel(data, gamma=gamma)\n",
    "\n",
    "np.testing.assert_array_equal(pairwise_kernels(data, metric=kernel, n_jobs=1, gamma=gamma),\n",
    "                              rbf_kernel(data, gamma=gamma))"
   ]
  },
  {
   "cell_type": "markdown",
   "metadata": {},
   "source": [
    "#### Sampling"
   ]
  },
  {
   "cell_type": "code",
   "execution_count": 8,
   "metadata": {},
   "outputs": [
    {
     "name": "stdout",
     "output_type": "stream",
     "text": [
      "Size of the sampled K matrix, C:  (4435, 200)\n",
      "Size of m-by-m intersection matrix, W:  (200, 200)\n"
     ]
    }
   ],
   "source": [
    "# uniform sampling without replacement\n",
    "\n",
    "generator = check_random_state(random_state)\n",
    "random_indices = generator.permutation(n_samples)\n",
    "\n",
    "# choose the number of column indices\n",
    "n_column_indices = 200\n",
    "\n",
    "# choose 200 samples\n",
    "column_indices = random_indices[:n_column_indices]\n",
    "\n",
    "# choose the columns randomly from the matrix\n",
    "C = K[:, column_indices]\n",
    "\n",
    "print('Size of the sampled K matrix, C: ', C.shape)\n",
    "\n",
    "# get the other sampled columns\n",
    "W = C[column_indices, :]\n",
    "\n",
    "print('Size of m-by-m intersection matrix, W: ', W.shape)"
   ]
  },
  {
   "cell_type": "markdown",
   "metadata": {},
   "source": [
    "#### SVD"
   ]
  },
  {
   "cell_type": "code",
   "execution_count": 13,
   "metadata": {},
   "outputs": [
    {
     "name": "stdout",
     "output_type": "stream",
     "text": [
      "Perform Normal SVD...\n",
      "Shape of U_approx: (4435, 100)\n",
      "Shape of D_approx: (100, 100)\n",
      "Error (Normal): 4.915e+00\n",
      "Error (FBPCA) CWC.T: 4.915e+00\n"
     ]
    }
   ],
   "source": [
    "k_components = 100\n",
    "t0 = time()\n",
    "# Perform the normal SVD\n",
    "print('Perform Normal SVD...')\n",
    "U, D, V = np.linalg.svd(W, full_matrices=False)\n",
    "\n",
    "U = U[:, :k_components]\n",
    "V = V[:, :k_components]\n",
    "D = D[:k_components]\n",
    "\n",
    "U_approx = np.sqrt(n_column_indices / n_samples) * C.dot(U).dot(np.diag(D**(-1)))\n",
    "D_approx = (n_samples / n_column_indices) * np.diag(D)\n",
    "K_approx = U_approx.dot(D_approx).dot(U_approx.T)\n",
    "\n",
    "print('Shape of U_approx: {}'.format(U_approx.shape))\n",
    "print('Shape of D_approx: {}'.format(D_approx.shape))\n",
    "\n",
    "W_approx = U.dot(np.diag(D)).dot(U.T)\n",
    "K_approx2 = C.dot(np.linalg.pinv(W_approx)).dot(C.T)\n",
    "\n",
    "err = np.linalg.norm(K - K_approx, 'fro')\n",
    "err_2 = np.linalg.norm(K - K_approx2, 'fro')\n",
    "print('Error (Normal): {:.3e}'.format(err))\n",
    "print('Error (FBPCA) CWC.T: {:.3e}'.format(err_2))\n"
   ]
  },
  {
   "cell_type": "markdown",
   "metadata": {},
   "source": [
    "#### Randomized SVD (FB)"
   ]
  },
  {
   "cell_type": "code",
   "execution_count": 24,
   "metadata": {},
   "outputs": [
    {
     "name": "stdout",
     "output_type": "stream",
     "text": [
      "Perform FB RSVD...\n",
      "Error (FBPCA): 4.922e+00\n",
      "Error (FBPCA) CWC.T: 4.922e+00\n"
     ]
    }
   ],
   "source": [
    "print('Perform FB RSVD...')\n",
    "U_frand, D_frand, V_frand = fbpca.pca(W, k=k_components, raw=True)\n",
    "\n",
    "U_fapprox = np.sqrt(n_column_indices / n_samples) * C.dot(U_frand).dot(np.diag(D_frand**(-1)))\n",
    "D_fapprox = (n_samples / n_column_indices) * np.diag(D_frand)\n",
    "K_fapprox = U_fapprox.dot(D_fapprox).dot(U_fapprox.T)\n",
    "\n",
    "W_fapprox = U_frand.dot(np.diag(D_frand)).dot(U_frand.T)\n",
    "K_fapprox2 = C.dot(np.linalg.pinv(W_fapprox)).dot(C.T)\n",
    "\n",
    "err_fb = np.linalg.norm(K - K_fapprox, 'fro')\n",
    "err_fb2 = np.linalg.norm(K - K_fapprox2, 'fro')\n",
    "print('Error (FBPCA): {:.3e}'.format(err_fb))\n",
    "print('Error (FBPCA) CWC.T: {:.3e}'.format(err_fb2))\n"
   ]
  },
  {
   "cell_type": "markdown",
   "metadata": {},
   "source": [
    "#### Randomized SVD (Scikit)"
   ]
  },
  {
   "cell_type": "code",
   "execution_count": 25,
   "metadata": {},
   "outputs": [
    {
     "name": "stdout",
     "output_type": "stream",
     "text": [
      "Perform scikit RSVD...\n",
      "Error (FBPCA): 4.922e+00\n",
      "Error (FBPCA) CWC.T: 4.915e+00\n"
     ]
    }
   ],
   "source": [
    "print('Perform scikit RSVD...')\n",
    "U_rand, D_rand, V_rand = randomized_svd(W, n_components=k_components)\n",
    "\n",
    "U_rapprox = np.sqrt(n_column_indices / n_samples) * C.dot(U_rand).dot(np.diag(D_rand**(-1)))\n",
    "D_rapprox = (n_samples / n_column_indices) * np.diag(D_rand)\n",
    "K_rapprox = U_rapprox.dot(D_rapprox).dot(U_rapprox.T)\n",
    "\n",
    "W_rapprox = U_rand.dot(np.diag(D_rand)).dot(U_rand.T)\n",
    "K_rapprox2 = C.dot(np.linalg.pinv(W_rapprox)).dot(C.T)\n",
    "\n",
    "err_r = np.linalg.norm(K - K_fapprox, 'fro')\n",
    "err_r2 = np.linalg.norm(K - K_rapprox2, 'fro')\n",
    "\n",
    "print('Error (FBPCA): {:.3e}'.format(err_r))\n",
    "print('Error (FBPCA) CWC.T: {:.3e}'.format(err_r2))\n"
   ]
  },
  {
   "cell_type": "code",
   "execution_count": 26,
   "metadata": {},
   "outputs": [
    {
     "name": "stdout",
     "output_type": "stream",
     "text": [
      "Time Experiment for normal SVD.\n",
      "27.1 ms ± 2.36 ms per loop (mean ± std. dev. of 7 runs, 10 loops each)\n",
      "\n",
      "Time Experiment for randomized SVD (fb).\n",
      "55.7 ms ± 4.42 ms per loop (mean ± std. dev. of 7 runs, 10 loops each)\n",
      "\n",
      "Time Experiment for randomized SVD (scikit).\n",
      "45.4 ms ± 946 µs per loop (mean ± std. dev. of 7 runs, 10 loops each)\n"
     ]
    }
   ],
   "source": [
    "print('Time Experiment for normal SVD.')\n",
    "%timeit np.linalg.svd(W, full_matrices=False);\n",
    "\n",
    "print('\\nTime Experiment for randomized SVD (fb).')\n",
    "%timeit fbpca.pca(W, k=k_components, raw=True, n_iter=3);\n",
    "\n",
    "print('\\nTime Experiment for randomized SVD (scikit).')\n",
    "%timeit randomized_svd(W, n_components=k_components);"
   ]
  },
  {
   "cell_type": "markdown",
   "metadata": {},
   "source": [
    "## Data Approximation"
   ]
  },
  {
   "cell_type": "markdown",
   "metadata": {},
   "source": [
    "#### Scikit-Learn Implementation"
   ]
  },
  {
   "cell_type": "markdown",
   "metadata": {},
   "source": [
    "##### Sampling"
   ]
  },
  {
   "cell_type": "code",
   "execution_count": 27,
   "metadata": {},
   "outputs": [
    {
     "name": "stdout",
     "output_type": "stream",
     "text": [
      "Size of indices: (4435,)\n",
      "Size of basis indices: (100,)\n",
      "Size of basis: (100, 36)\n"
     ]
    }
   ],
   "source": [
    "# Nystrom approximation of K\n",
    "eps = 1e-12\n",
    "\n",
    "# size of the data\n",
    "n_samples = data.shape[0]\n",
    "\n",
    "# choose the number of components\n",
    "k_components = 100\n",
    "k_components = min(n_samples, k_components)\n",
    "\n",
    "# perform rnadom uniform sampling without replacement\n",
    "indices = np.random.permutation(n_samples)\n",
    "basis_indices = indices[:k_components]\n",
    "basis = data[basis_indices]\n",
    "\n",
    "print('Size of indices: {}'.format(indices.shape))\n",
    "print('Size of basis indices: {}'.format(basis_indices.shape))\n",
    "print('Size of basis: {}'.format(basis.shape))"
   ]
  },
  {
   "cell_type": "markdown",
   "metadata": {},
   "source": [
    "##### Construct Kernel Matrices"
   ]
  },
  {
   "cell_type": "code",
   "execution_count": 32,
   "metadata": {},
   "outputs": [],
   "source": [
    "# construct the basis kernel\n",
    "basis_gamma = 1 / (2 * np.mean(pdist(basis, metric='euclidean')))\n",
    "basis_kernel = pairwise_kernels(basis, metric=kernel, n_jobs=n_jobs, gamma=gamma)"
   ]
  },
  {
   "cell_type": "markdown",
   "metadata": {},
   "source": [
    "##### SVD - Get the basis vectors"
   ]
  },
  {
   "cell_type": "code",
   "execution_count": 33,
   "metadata": {},
   "outputs": [
    {
     "name": "stdout",
     "output_type": "stream",
     "text": [
      "Perform Normal SVD...\n"
     ]
    }
   ],
   "source": [
    "# get the basis vectors\n",
    "\n",
    "# Perform the normal SVD\n",
    "print('Perform Normal SVD...')\n",
    "U, D, V = np.linalg.svd(basis_kernel, full_matrices=False)\n",
    "\n",
    "# use toleraance for eigenvalues\n",
    "S = np.maximum(D, eps)"
   ]
  },
  {
   "cell_type": "code",
   "execution_count": 34,
   "metadata": {},
   "outputs": [
    {
     "name": "stdout",
     "output_type": "stream",
     "text": [
      "Size of normalization: (100, 100)\n",
      "Size of components: (100, 36)\n",
      "Size of component indices: (100,)\n"
     ]
    }
   ],
   "source": [
    "# Get normalization\n",
    "normalization = np.dot(U / np.sqrt(S), V)\n",
    "\n",
    "# get components and indices\n",
    "components = basis\n",
    "component_indices = basis_indices\n",
    "\n",
    "print('Size of normalization: {}'.format(normalization.shape))\n",
    "print('Size of components: {}'.format(components.shape))\n",
    "print('Size of component indices: {}'.format(component_indices.shape))"
   ]
  },
  {
   "cell_type": "markdown",
   "metadata": {},
   "source": [
    "##### Randomized SVD"
   ]
  },
  {
   "cell_type": "code",
   "execution_count": 38,
   "metadata": {},
   "outputs": [
    {
     "name": "stdout",
     "output_type": "stream",
     "text": [
      "Perform scikit RSVD...\n",
      "Size of normalization: (100, 100)\n",
      "Size of components: (100, 36)\n",
      "Size of component indices: (100,)\n"
     ]
    }
   ],
   "source": [
    "print('Perform scikit RSVD...')\n",
    "U_rand, D_rand, V_rand = randomized_svd(basis_kernel, n_components=k_components)\n",
    "\n",
    "# use toleraance for eigenvalues\n",
    "S_rand = np.maximum(D, eps)\n",
    "\n",
    "normalization_r = np.dot(U_rand / np.sqrt(S_rand), V_rand)\n",
    "\n",
    "print('Size of normalization: {}'.format(normalization_r.shape))\n",
    "print('Size of components: {}'.format(components.shape))\n",
    "print('Size of component indices: {}'.format(component_indices.shape))"
   ]
  },
  {
   "cell_type": "markdown",
   "metadata": {},
   "source": [
    "#### Transform New Data"
   ]
  },
  {
   "cell_type": "code",
   "execution_count": null,
   "metadata": {},
   "outputs": [],
   "source": []
  }
 ],
 "metadata": {
  "kernelspec": {
   "display_name": "Python 3",
   "language": "python",
   "name": "python3"
  },
  "language_info": {
   "codemirror_mode": {
    "name": "ipython",
    "version": 3
   },
   "file_extension": ".py",
   "mimetype": "text/x-python",
   "name": "python",
   "nbconvert_exporter": "python",
   "pygments_lexer": "ipython3",
   "version": "3.6.1"
  },
  "toc": {
   "nav_menu": {},
   "number_sections": true,
   "sideBar": true,
   "skip_h1_title": false,
   "toc_cell": false,
   "toc_position": {},
   "toc_section_display": "block",
   "toc_window_display": false
  },
  "varInspector": {
   "cols": {
    "lenName": 16,
    "lenType": 16,
    "lenVar": 40
   },
   "kernels_config": {
    "python": {
     "delete_cmd_postfix": "",
     "delete_cmd_prefix": "del ",
     "library": "var_list.py",
     "varRefreshCmd": "print(var_dic_list())"
    },
    "r": {
     "delete_cmd_postfix": ") ",
     "delete_cmd_prefix": "rm(",
     "library": "var_list.r",
     "varRefreshCmd": "cat(var_dic_list()) "
    }
   },
   "types_to_exclude": [
    "module",
    "function",
    "builtin_function_or_method",
    "instance",
    "_Feature"
   ],
   "window_display": false
  }
 },
 "nbformat": 4,
 "nbformat_minor": 2
}
