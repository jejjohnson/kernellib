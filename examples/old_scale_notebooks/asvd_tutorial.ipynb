{
 "cells": [
  {
   "cell_type": "markdown",
   "metadata": {},
   "source": [
    "# Approximate Singular Value Decomposition "
   ]
  },
  {
   "cell_type": "markdown",
   "metadata": {},
   "source": [
    "### Synopsis"
   ]
  },
  {
   "cell_type": "markdown",
   "metadata": {},
   "source": [
    "I use the eigenvalue decomposition method whenever I implement any Manifold Learning method. The general steps one must take in order to implement these methods would be:\n",
    "\n",
    "1. Construct a Connectivity Matrix\n",
    "2. Solve the Eigenvalue Decomposition Problem\n",
    "3. Extract the k-smallest nontrivial eigenvalues and the corresponding eigenvectors to either extract the embedding or project the data into the new space where the embedding is present.\n",
    "\n",
    "Now, step 2 is very computationally heavy so I am looking for methods which can reduce the computaitonal burden. From my understanding, the Approximate Singular Value Decomposition (ASVD) method uses the theory of random approximations of spectral decompositions to find the best rank-k  approximation of a matrix A. This sounds particularly useful because it will speed up the entire algorithm process and it is a method that has some pretty good theoretical guarantees to ensure that we have a good solution."
   ]
  },
  {
   "cell_type": "markdown",
   "metadata": {},
   "source": [
    "### Resources"
   ]
  },
  {
   "cell_type": "markdown",
   "metadata": {},
   "source": [
    "I will be using the following papers to complete my self tutorial:\n",
    "\n",
    "* Randomized Approximate of Operators and their Spectral Decomposition for Diffusion Based Embeddings of Hetergeneous Data\n",
    "    - Czaja et al. - [Paper][1]\n",
    "* A randomized algorithm for principal component analysis\n",
    "    - Rokhlin et al. - [Paper][2]\n",
    "* Finding Structure with Randomness: Probabilistic Algorithms for Constructing Approximate Matrix Decompositions\n",
    "    - Halko et al. - [Paper][3]\n",
    "* A randomized algorithm for the decomposition of matrices\n",
    "    - Martisson et al. - [Paper][8]\n",
    "\n",
    "I will use the following code as a guide for implementing the steps in the paper:\n",
    "\n",
    "* Github user - [gist][4]\n",
    "* Github user - [github][6]\n",
    "* Facebook: Fast Randomized PCA/SVD - [github][5]\n",
    "* Scikit-Learn: Randomized SVD - [github][7]\n",
    "    \n",
    "    \n",
    "[1]: http://ieeexplore.ieee.org/xpls/abs_all.jsp?arnumber=7330267&tag=1\n",
    "[2]: http://arxiv.org/pdf/0809.2274.pdf\n",
    "[3]: https://arxiv.org/pdf/0909.4061\n",
    "[4]: https://gist.github.com/alextp/662433\n",
    "[5]: https://github.com/facebook/fbpca/blob/master/fbpca.py\n",
    "[6]: https://github.com/ktaneishi/pyredsvd\n",
    "[7]: https://github.com/scikit-learn/scikit-learn/blob/51a765acfa4c5d1ec05fc4b406968ad233c75162/sklearn/utils/extmath.py\n",
    "[8]: https://math.berkeley.edu/~strain/273.F10/martinsson.tygert.rokhlin.randomized.decomposition.pdf"
   ]
  },
  {
   "cell_type": "markdown",
   "metadata": {},
   "source": [
    "## Algorithm Walkthrough"
   ]
  },
  {
   "cell_type": "markdown",
   "metadata": {},
   "source": [
    "Suppose we have a real matrix A of size $m\\times n$. This can be typically decomposed via regular SVD as\n",
    "\n",
    "$$A=U\\Sigma V^T$$\n",
    "\n",
    "where:\n",
    "* $U$ is a real unitary $m\\times m$ matrix\n",
    "* $V$ is a real unitary $n \\times n$ matrix\n",
    "* $\\Sigma$ is a real $m\\times n$ diagonal matrix\n",
    "\n",
    "A well known idea is that the best rank-$k$ approximation of A is given by\n",
    "\n",
    "$$A=\\tilde{U}\\tilde{\\Sigma}\\tilde{V}^T$$\n",
    "\n",
    "where:\n",
    "* $\\tilde{U}$ is a real unitary $m\\times k$ matrix\n",
    "* $\\tilde{V}$ is a real unitary $n \\times k$ matrix\n",
    "* $\\tilde{\\Sigma}$ is a real $k\\times k$ diagonal matrix\n",
    "We now want to form a Gaussian matrix"
   ]
  },
  {
   "cell_type": "markdown",
   "metadata": {},
   "source": [
    "### Step 1 - Gaussian Matrix"
   ]
  },
  {
   "cell_type": "markdown",
   "metadata": {},
   "source": [
    "Let $A$ be a real $m\\times n$ matrix. "
   ]
  },
  {
   "cell_type": "code",
   "execution_count": 1,
   "metadata": {
    "collapsed": true
   },
   "outputs": [],
   "source": [
    "# get some random matrix\n",
    "from sklearn.datasets import make_spd_matrix\n",
    "\n",
    "A = make_spd_matrix(30, random_state=0)\n",
    "\n",
    "m = A.shape[0]  # left dimension of A\n",
    "n = A.shape[1]  # right dimension of A\n",
    "\n",
    "# choose some k singular values we want\n",
    "k = 10"
   ]
  },
  {
   "cell_type": "markdown",
   "metadata": {},
   "source": [
    "Construct a matrix, $G$, of i.i.d. standard Gaussian random variables, s.t. the matrix is size $l\\times m$ where $k<l\\leq m-k$."
   ]
  },
  {
   "cell_type": "code",
   "execution_count": 2,
   "metadata": {},
   "outputs": [],
   "source": [
    "# choose some l that satisfies the inequality listed above\n",
    "l = 20\n",
    "\n",
    "# assert that the inequality is satisfied\n",
    "def check_l(l):\n",
    "    assert l > k and l <= (m-k), \"Your choice of l must satisfy the inequality.\"\n",
    "    return l\n",
    "\n",
    "# check my value of l\n",
    "l = check_l(l)\n",
    "\n",
    "# create gaussian matrix\n",
    "import numpy as np\n",
    "\n",
    "G = np.random.normal(size=(l,m))"
   ]
  },
  {
   "cell_type": "markdown",
   "metadata": {},
   "source": [
    "### Step 2 - Compute Product"
   ]
  },
  {
   "cell_type": "markdown",
   "metadata": {},
   "source": [
    "Compute the product of the following:\n",
    "\n",
    "$$S=G(AA^T)^iA$$\n",
    "\n",
    "where $i \\in \\mathbb{N}$. To get an idea of the dimensions, it is:\n",
    "\n",
    "$$S=G_{l\\times m}(A_{m \\times n}A_{n \\times m}^T)^iA_{m \\times n}$$\n",
    "\n",
    "This is actually a pretty involved product so I'm going to break down the steps even further."
   ]
  },
  {
   "cell_type": "markdown",
   "metadata": {},
   "source": [
    "##### Compute the square matrix\n",
    "\n",
    "It would seem that the product $AA^T$ is only need because $A$ is an $m \\times n$ matrix. This would not be needed if $A=A^T$, i.e. a symmetric matrix. In fact, it might be the case that doing $AA^T$ for a symmetric matrix would count as doing an extra iteration for the next step."
   ]
  },
  {
   "cell_type": "code",
   "execution_count": 3,
   "metadata": {
    "collapsed": true
   },
   "outputs": [],
   "source": [
    "# compute the square matrix\n",
    "A_square = np.dot(A, A.T)"
   ]
  },
  {
   "cell_type": "markdown",
   "metadata": {},
   "source": [
    "##### Compute the Power of the square matrix\n",
    "\n",
    "This involves the $(AA^T)^{i}$. I'm pretty sure that $i \\in \\mathbb{N}$ and by increasing $i$ increases the accuracy of the method."
   ]
  },
  {
   "cell_type": "code",
   "execution_count": 4,
   "metadata": {},
   "outputs": [],
   "source": [
    "# compute the matrix power\n",
    "i = 2\n",
    "A_power = np.linalg.matrix_power(A_square,i)"
   ]
  },
  {
   "cell_type": "markdown",
   "metadata": {},
   "source": [
    "##### Now Compute the actual product"
   ]
  },
  {
   "cell_type": "code",
   "execution_count": 5,
   "metadata": {
    "collapsed": true
   },
   "outputs": [],
   "source": [
    "# compute the product for step 2\n",
    "S = np.dot(G,np.dot(A_square,A))"
   ]
  },
  {
   "cell_type": "markdown",
   "metadata": {},
   "source": [
    "### Step 3. Compute the Pivoted QR-Decomposition"
   ]
  },
  {
   "cell_type": "markdown",
   "metadata": {},
   "source": [
    "So, we need to use a pivoted $QR$-decomposition on the $S^T$ matrix computed in step 2 so that we get\n",
    "\n",
    "$$S^T=QR$$\n",
    "\n",
    "where $Q$ is an $n \\times l$ matrix with orthonormal columns. "
   ]
  },
  {
   "cell_type": "code",
   "execution_count": 6,
   "metadata": {
    "collapsed": true
   },
   "outputs": [],
   "source": [
    "# compute the QR-decomposition on S transpose\n",
    "Q, R = np.linalg.qr(S.T,mode='complete')"
   ]
  },
  {
   "cell_type": "markdown",
   "metadata": {},
   "source": [
    "There are so many options for the QR decomposition in the numpy package. The 'reduced' mode returns with reduced dimensions so I decided to use the 'complete' mode just in case it cuts some stuff out that we need for later. I could do some experiments later because I suspect that the reduced method may be a little bit faster. \n",
    "\n",
    "**Note:** Not sure if they have a sparse package in the scipy library. May have to figure out another way to do it."
   ]
  },
  {
   "cell_type": "markdown",
   "metadata": {},
   "source": [
    "### Step 4. Compute the SVD of $T:=AQ$"
   ]
  },
  {
   "cell_type": "markdown",
   "metadata": {},
   "source": [
    "Now we compute the following SVD\n",
    "\n",
    "$$T=\\tilde{U}\\tilde{\\Sigma}W^T$$\n",
    "\n",
    "If we let $T:=AQ$, we get a much faster SVD computation than just performing SVD on $A$ alone because $T$ is size $m \\times l$."
   ]
  },
  {
   "cell_type": "code",
   "execution_count": 7,
   "metadata": {
    "collapsed": true
   },
   "outputs": [],
   "source": [
    "T = np.dot(A,Q)\n",
    "U_hat, Sigma_hat, W = np.linalg.svd(T)"
   ]
  },
  {
   "cell_type": "markdown",
   "metadata": {},
   "source": [
    "### Step 5. Compute $\\tilde{V}$"
   ]
  },
  {
   "cell_type": "markdown",
   "metadata": {},
   "source": [
    "This is done by the following assignment:\n",
    "\n",
    "$$\\tilde{V}:=QW$$"
   ]
  },
  {
   "cell_type": "code",
   "execution_count": 8,
   "metadata": {
    "collapsed": true
   },
   "outputs": [],
   "source": [
    "V_hat = np.dot(Q,W)"
   ]
  },
  {
   "cell_type": "markdown",
   "metadata": {},
   "source": [
    "### Step 6. Extract $U$, $\\Sigma$, and $V$"
   ]
  },
  {
   "cell_type": "markdown",
   "metadata": {},
   "source": [
    "Now we can extract the necessary SVD from our algorithm.\n",
    "\n",
    "* Extract upper left $m\\times k$ block from $\\tilde{U}$\n",
    "* Extract upper left $n\\times k$ block from $\\tilde{V}$\n",
    "* Extract upper left $k\\times k$ block from $\\tilde{\\Sigma}$\n"
   ]
  },
  {
   "cell_type": "code",
   "execution_count": 9,
   "metadata": {},
   "outputs": [],
   "source": [
    "U = U_hat[:m, :k]\n",
    "V = V_hat[:n, :k]\n",
    "Sigma = Sigma_hat[:k]"
   ]
  },
  {
   "cell_type": "markdown",
   "metadata": {},
   "source": [
    "## ASVD Function"
   ]
  },
  {
   "cell_type": "markdown",
   "metadata": {},
   "source": [
    "To get away from the imperative style tutorial above, I'm defining a function that contains all of the elements that I outlined above."
   ]
  },
  {
   "cell_type": "code",
   "execution_count": 10,
   "metadata": {
    "collapsed": true
   },
   "outputs": [],
   "source": [
    "def asvd(A, n_components, size_gauss, pow_iter):\n",
    "    \n",
    "    # get components\n",
    "    m = A.shape[0]; n = A.shape[1]\n",
    "    k = n_components\n",
    "    l = size_gauss\n",
    "    i = pow_iter\n",
    "    assert l > k and l <= (m-k), \"Your choice of l must satisfy the inequality.\"\n",
    "    \n",
    "    # perform ASVD\n",
    "    G = np.random.normal(size=(l,m))\n",
    "    A_square = np.dot(A, A.T)\n",
    "    A_power = np.linalg.matrix_power(A_square,i)\n",
    "    S = np.dot(G,np.dot(A_square,A))\n",
    "    Q, R = np.linalg.qr(S.T,mode='complete')\n",
    "    T = np.dot(A,Q)\n",
    "    U_hat, Sigma_hat, W = np.linalg.svd(T)\n",
    "    V_hat = np.dot(Q,W)\n",
    "    \n",
    "    # extract n_components\n",
    "    U = U_hat[:m, :k]\n",
    "    V = V_hat[:n, :k]\n",
    "    Sigma = Sigma_hat[:k]\n",
    "    \n",
    "    return U, Sigma, V"
   ]
  },
  {
   "cell_type": "markdown",
   "metadata": {},
   "source": [
    "## More Compact ASVD Function"
   ]
  },
  {
   "cell_type": "markdown",
   "metadata": {},
   "source": [
    "The next step is to reduce the memory used for this function. I don't need to be implementing all these  assignments when I can keep those contained within functions; really one of the highlights of python."
   ]
  },
  {
   "cell_type": "markdown",
   "metadata": {},
   "source": [
    "## Smallest Eigenvalues and Eigenvectors"
   ]
  },
  {
   "cell_type": "markdown",
   "metadata": {},
   "source": [
    "So the above method computes the largest eigenvalues of the given matrix. In order to compute the smallest eigenvalues, we have to do a trick:\n",
    "\n",
    "1. Let $k=1$. \n",
    "2. Use ASVD to compute the largest $k$ eigenvalues of the matrix, i.e. $\\sigma_1$.\n",
    "3. Transform A like so: $\\mathbf{A}' = 2\\sigma_1 \\mathbf{I}-\\mathbf{A}$.\n",
    "4. Use ASVD to solve for the largest $k$' eigenvalues and eigenvectors of the matrix, $\\mathbf{A}'$.\n",
    "5. The smallest eigenvalues and eigenvectors are given by: $\\Sigma=2\\sigma_1 \\mathbf{I}-\\Sigma'$\n",
    "\n",
    "**Note**: We can actually keep the same eigenvectors as the $\\mathbf{A}'$ matrix for the smallest eigenvalues.\n",
    "\n",
    "Let's have the following eigenvalue formula:\n",
    "\n",
    "\\begin{equation}\n",
    "\\mathbf{A}\\vec{x}=\\lambda\\vec{x}\n",
    "\\end{equation}\n",
    "\n",
    "Now let's add some arbitrary scaling parameter $\\gamma \\mathbf{I}$ to the $\\mathbf{A}$. Using the above equation, we can deduce that:\n",
    "\n",
    "\\begin{align}\n",
    "\\left(\\gamma \\mathbf{I+A}\\right)\\vec{x} &= \\gamma \\mathbf{I} \\vec{x} + \\mathbf{A}\\vec{x} \\\\\n",
    "    &= \\gamma \\vec{x} + \\lambda \\vec{x}\\\\\n",
    "    &= \\left( \\gamma + \\lambda \\right) \\vec{x}\n",
    "\\end{align}\n",
    "\n",
    "Therefore, $\\gamma + \\lambda$ is an eigenvalue but $\\vec{x}$ is still the same eigenvector.\n",
    "\n",
    "\n",
    " "
   ]
  },
  {
   "cell_type": "markdown",
   "metadata": {},
   "source": [
    "##### Example"
   ]
  },
  {
   "cell_type": "code",
   "execution_count": 11,
   "metadata": {},
   "outputs": [
    {
     "ename": "AssertionError",
     "evalue": "Your choice of l must satisfy the inequality.",
     "traceback": [
      "\u001b[0;31m---------------------------------------------------------------------------\u001b[0m",
      "\u001b[0;31mAssertionError\u001b[0m                            Traceback (most recent call last)",
      "\u001b[0;32m<ipython-input-11-0bf47d6343a7>\u001b[0m in \u001b[0;36m<module>\u001b[0;34m()\u001b[0m\n\u001b[1;32m      7\u001b[0m _, Sigma_large, _ = asvd(A, n_components=n_components,\n\u001b[1;32m      8\u001b[0m                    \u001b[0msize_gauss\u001b[0m\u001b[0;34m=\u001b[0m\u001b[0msize_gauss\u001b[0m\u001b[0;34m,\u001b[0m\u001b[0;34m\u001b[0m\u001b[0m\n\u001b[0;32m----> 9\u001b[0;31m                    pow_iter=pow_iter)\n\u001b[0m\u001b[1;32m     10\u001b[0m \u001b[0;34m\u001b[0m\u001b[0m\n\u001b[1;32m     11\u001b[0m \u001b[0;31m# transform the original matrix A to A'\u001b[0m\u001b[0;34m\u001b[0m\u001b[0;34m\u001b[0m\u001b[0m\n",
      "\u001b[0;32m<ipython-input-10-86980a896dff>\u001b[0m in \u001b[0;36masvd\u001b[0;34m(A, n_components, size_gauss, pow_iter)\u001b[0m\n\u001b[1;32m      6\u001b[0m     \u001b[0ml\u001b[0m \u001b[0;34m=\u001b[0m \u001b[0msize_gauss\u001b[0m\u001b[0;34m\u001b[0m\u001b[0m\n\u001b[1;32m      7\u001b[0m     \u001b[0mi\u001b[0m \u001b[0;34m=\u001b[0m \u001b[0mpow_iter\u001b[0m\u001b[0;34m\u001b[0m\u001b[0m\n\u001b[0;32m----> 8\u001b[0;31m     \u001b[0;32massert\u001b[0m \u001b[0ml\u001b[0m \u001b[0;34m>\u001b[0m \u001b[0mk\u001b[0m \u001b[0;32mand\u001b[0m \u001b[0ml\u001b[0m \u001b[0;34m<=\u001b[0m \u001b[0;34m(\u001b[0m\u001b[0mm\u001b[0m\u001b[0;34m-\u001b[0m\u001b[0mk\u001b[0m\u001b[0;34m)\u001b[0m\u001b[0;34m,\u001b[0m \u001b[0;34m\"Your choice of l must satisfy the inequality.\"\u001b[0m\u001b[0;34m\u001b[0m\u001b[0m\n\u001b[0m\u001b[1;32m      9\u001b[0m \u001b[0;34m\u001b[0m\u001b[0m\n\u001b[1;32m     10\u001b[0m     \u001b[0;31m# perform ASVD\u001b[0m\u001b[0;34m\u001b[0m\u001b[0;34m\u001b[0m\u001b[0m\n",
      "\u001b[0;31mAssertionError\u001b[0m: Your choice of l must satisfy the inequality."
     ],
     "output_type": "error"
    }
   ],
   "source": [
    "# set parameters\n",
    "n_components = 5  # i'm looking for the 5 smallest and largest eigenvectors for the same matrix A\n",
    "size_gauss = 30\n",
    "pow_iter = 20\n",
    "\n",
    "# solve for the largest eigenvalue\n",
    "_, Sigma_large, _ = asvd(A, n_components=n_components,\n",
    "                   size_gauss=size_gauss, \n",
    "                   pow_iter=pow_iter)\n",
    "\n",
    "# transform the original matrix A to A'\n",
    "A_new = 2*Sigma_large[0]*np.eye(A.shape[0])-A\n",
    "\n",
    "# solve for the largest k components of the matrix A'\n",
    "_, Sigma, _ = asvd(A_new, n_components=n_components,\n",
    "                   size_gauss=size_gauss,\n",
    "                   pow_iter=pow_iter)\n",
    "\n",
    "# use transformation to find the smallest eigenvalues\n",
    "Sigma_small = 2*Sigma_large[0]-Sigma\n",
    "\n",
    "# find all of the eigenvalues\n",
    "_, Sigma, _ = np.linalg.svd(A)\n",
    "\n",
    "# just check to see if the results are the same\n",
    "print('The largest {k} eigenvalues for A:\\n{eig}'.format(k=n_components,eig=Sigma_large))\n",
    "print('Using the SVD function:\\n{eig}'.format(eig=Sigma[:n_components]))\n",
    "print('The same? {ans}'.format(ans=np.linalg.norm(Sigma_large - Sigma[:n_components])<1E-10))\n",
    "print('The smallest {k} eigenvalues for A:\\n{eig}'.format(k=n_components,eig=Sigma_small))\n",
    "print('Using the SVD function:\\n{eig}'.format(eig=Sigma[::-1][:n_components]))\n",
    "print('The same? {ans}'.format(ans=np.linalg.norm(Sigma_small - Sigma[::-1][:n_components])<1E-10))"
   ]
  },
  {
   "cell_type": "markdown",
   "metadata": {},
   "source": [
    "#### Where are the eigenvectors in an SVD?"
   ]
  },
  {
   "cell_type": "markdown",
   "metadata": {},
   "source": [
    "I'll just do an experiment where I compute the solution to the generalized eigenvalue problem using SVD and some other method."
   ]
  },
  {
   "cell_type": "code",
   "execution_count": 12,
   "metadata": {
    "scrolled": true
   },
   "outputs": [
    {
     "ename": "AssertionError",
     "evalue": "Your choice of l must satisfy the inequality.",
     "traceback": [
      "\u001b[0;31m---------------------------------------------------------------------------\u001b[0m",
      "\u001b[0;31mAssertionError\u001b[0m                            Traceback (most recent call last)",
      "\u001b[0;32m<ipython-input-12-7c9205b66ac7>\u001b[0m in \u001b[0;36m<module>\u001b[0;34m()\u001b[0m\n\u001b[1;32m      4\u001b[0m U['asvd'], Sigma['asvd'], V['asvd'] = asvd(A, n_components=10,\n\u001b[1;32m      5\u001b[0m                                            \u001b[0msize_gauss\u001b[0m\u001b[0;34m=\u001b[0m\u001b[0msize_gauss\u001b[0m\u001b[0;34m,\u001b[0m\u001b[0;34m\u001b[0m\u001b[0m\n\u001b[0;32m----> 6\u001b[0;31m                                            pow_iter=pow_iter)\n\u001b[0m\u001b[1;32m      7\u001b[0m \u001b[0meigVals\u001b[0m \u001b[0;34m=\u001b[0m \u001b[0;34m{\u001b[0m\u001b[0;34m}\u001b[0m\u001b[0;34m;\u001b[0m \u001b[0meigVecs\u001b[0m \u001b[0;34m=\u001b[0m \u001b[0;34m{\u001b[0m\u001b[0;34m}\u001b[0m\u001b[0;34m\u001b[0m\u001b[0m\n\u001b[1;32m      8\u001b[0m \u001b[0meigVals\u001b[0m\u001b[0;34m[\u001b[0m\u001b[0;34m'scipy'\u001b[0m\u001b[0;34m]\u001b[0m\u001b[0;34m,\u001b[0m \u001b[0meigVecs\u001b[0m\u001b[0;34m[\u001b[0m\u001b[0;34m'scipy'\u001b[0m\u001b[0;34m]\u001b[0m \u001b[0;34m=\u001b[0m \u001b[0meig\u001b[0m\u001b[0;34m(\u001b[0m\u001b[0ma\u001b[0m\u001b[0;34m=\u001b[0m\u001b[0mA\u001b[0m\u001b[0;34m)\u001b[0m\u001b[0;34m\u001b[0m\u001b[0m\n",
      "\u001b[0;32m<ipython-input-10-86980a896dff>\u001b[0m in \u001b[0;36masvd\u001b[0;34m(A, n_components, size_gauss, pow_iter)\u001b[0m\n\u001b[1;32m      6\u001b[0m     \u001b[0ml\u001b[0m \u001b[0;34m=\u001b[0m \u001b[0msize_gauss\u001b[0m\u001b[0;34m\u001b[0m\u001b[0m\n\u001b[1;32m      7\u001b[0m     \u001b[0mi\u001b[0m \u001b[0;34m=\u001b[0m \u001b[0mpow_iter\u001b[0m\u001b[0;34m\u001b[0m\u001b[0m\n\u001b[0;32m----> 8\u001b[0;31m     \u001b[0;32massert\u001b[0m \u001b[0ml\u001b[0m \u001b[0;34m>\u001b[0m \u001b[0mk\u001b[0m \u001b[0;32mand\u001b[0m \u001b[0ml\u001b[0m \u001b[0;34m<=\u001b[0m \u001b[0;34m(\u001b[0m\u001b[0mm\u001b[0m\u001b[0;34m-\u001b[0m\u001b[0mk\u001b[0m\u001b[0;34m)\u001b[0m\u001b[0;34m,\u001b[0m \u001b[0;34m\"Your choice of l must satisfy the inequality.\"\u001b[0m\u001b[0;34m\u001b[0m\u001b[0m\n\u001b[0m\u001b[1;32m      9\u001b[0m \u001b[0;34m\u001b[0m\u001b[0m\n\u001b[1;32m     10\u001b[0m     \u001b[0;31m# perform ASVD\u001b[0m\u001b[0;34m\u001b[0m\u001b[0;34m\u001b[0m\u001b[0m\n",
      "\u001b[0;31mAssertionError\u001b[0m: Your choice of l must satisfy the inequality."
     ],
     "output_type": "error"
    }
   ],
   "source": [
    "from scipy.linalg import eig\n",
    "U={}; Sigma={}; V={}\n",
    "U['np'], Sigma['np'], V['np'] = np.linalg.svd(A)\n",
    "U['asvd'], Sigma['asvd'], V['asvd'] = asvd(A, n_components=10,\n",
    "                                           size_gauss=size_gauss,\n",
    "                                           pow_iter=pow_iter)\n",
    "eigVals = {}; eigVecs = {}\n",
    "eigVals['scipy'], eigVecs['scipy'] = eig(a=A)\n",
    "print(V['np'].shape, V['asvd'].shape, eigVecs['scipy'].shape)\n",
    "print(V['np'][:5, :n_components])\n",
    "print(V['asvd'][:5, :n_components])\n",
    "print(eigVecs['scipy'][:5, :n_components])\n",
    "print('\\n\\n\\n')\n",
    "print(Sigma['np'][:5])\n",
    "print(Sigma['asvd'][:5])\n",
    "print(eigVals['scipy'][:5])"
   ]
  },
  {
   "cell_type": "code",
   "execution_count": 29,
   "metadata": {},
   "outputs": [
    {
     "name": "stderr",
     "output_type": "stream",
     "text": [
      "/Users/eman/anaconda3/lib/python3.6/site-packages/numpy/core/numeric.py:531: ComplexWarning: Casting complex values to real discards the imaginary part\n",
      "  return array(a, dtype, copy=False, order=order)\n"
     ]
    },
    {
     "data": {
      "image/png": "[encoded data removed]",
      "text/plain": [
       "<matplotlib.figure.Figure at 0x1a193ad908>"
      ]
     },
     "metadata": {},
     "output_type": "display_data"
    }
   ],
   "source": [
    "# plot the two solutions and compare the values\n",
    "import matplotlib.pyplot as plt\n",
    "%matplotlib inline\n",
    "plt.style.use('ggplot')\n",
    "\n",
    "fig, ax = plt.subplots()\n",
    "\n",
    "ax.plot(Sigma['np'][1:], label=\"SVD\")\n",
    "ax.plot(Sigma['asvd'][1:], label='ASVD')\n",
    "ax.plot(eigVals['scipy'][1:], label='Generalized Eigenvalue Problem')\n",
    "ax.set_title('First {k} Eigenvalues of Matrix A'.format(k=k))\n",
    "ax.set_ylabel('$\\lambda_i$')\n",
    "ax.set_xlabel('Number $i$')\n",
    "plt.legend(loc='upper right')\n",
    "\n",
    "plt.show()"
   ]
  },
  {
   "cell_type": "markdown",
   "metadata": {},
   "source": [
    "## Comparing Implementations"
   ]
  },
  {
   "cell_type": "code",
   "execution_count": 14,
   "metadata": {
    "collapsed": true
   },
   "outputs": [],
   "source": [
    "# get some random matrix\n",
    "from sklearn.datasets import make_spd_matrix\n",
    "\n",
    "A = make_spd_matrix(100, random_state=0)\n",
    "\n",
    "m = A.shape[0]  # left dimension of A\n",
    "n = A.shape[1]  # right dimension of A\n",
    "\n",
    "# choose some k singular values we want\n",
    "k = 20\n",
    "\n",
    "# set parameters\n",
    "size_gauss = 60\n",
    "pow_iter = 50\n",
    "\n",
    "# initialize the dictionary of values\n",
    "U={}; Sigma={}; V={}"
   ]
  },
  {
   "cell_type": "markdown",
   "metadata": {},
   "source": [
    "##### Numpy's Implementation"
   ]
  },
  {
   "cell_type": "code",
   "execution_count": 15,
   "metadata": {},
   "outputs": [],
   "source": [
    "import numpy as np\n",
    "\n",
    "U['np'], Sigma['np'], V['np'] = np.linalg.svd(A)\n",
    "\n",
    "Sigma['np'] = Sigma['np'][:k]\n",
    "V['np'] = V['np'].T[:,:k]"
   ]
  },
  {
   "cell_type": "markdown",
   "metadata": {},
   "source": [
    "##### Facebook PCA's Implementation"
   ]
  },
  {
   "cell_type": "code",
   "execution_count": 16,
   "metadata": {},
   "outputs": [
    {
     "ename": "ModuleNotFoundError",
     "evalue": "No module named 'fbpca'",
     "traceback": [
      "\u001b[0;31m---------------------------------------------------------------------------\u001b[0m",
      "\u001b[0;31mModuleNotFoundError\u001b[0m                       Traceback (most recent call last)",
      "\u001b[0;32m<ipython-input-16-b19f96a8ebeb>\u001b[0m in \u001b[0;36m<module>\u001b[0;34m()\u001b[0m\n\u001b[0;32m----> 1\u001b[0;31m \u001b[0;32mimport\u001b[0m \u001b[0mfbpca\u001b[0m \u001b[0;32mas\u001b[0m \u001b[0mfbpca\u001b[0m\u001b[0;34m\u001b[0m\u001b[0m\n\u001b[0m\u001b[1;32m      2\u001b[0m \u001b[0;34m\u001b[0m\u001b[0m\n\u001b[1;32m      3\u001b[0m \u001b[0;34m\u001b[0m\u001b[0m\n\u001b[1;32m      4\u001b[0m \u001b[0mSigma\u001b[0m\u001b[0;34m[\u001b[0m\u001b[0;34m'fbpca'\u001b[0m\u001b[0;34m]\u001b[0m\u001b[0;34m,\u001b[0m \u001b[0mV\u001b[0m\u001b[0;34m[\u001b[0m\u001b[0;34m'fbpca'\u001b[0m\u001b[0;34m]\u001b[0m \u001b[0;34m=\u001b[0m \u001b[0mfbpca\u001b[0m\u001b[0;34m.\u001b[0m\u001b[0meigenn\u001b[0m\u001b[0;34m(\u001b[0m\u001b[0mA\u001b[0m\u001b[0;34m=\u001b[0m\u001b[0mA\u001b[0m\u001b[0;34m,\u001b[0m \u001b[0mk\u001b[0m\u001b[0;34m=\u001b[0m\u001b[0mk\u001b[0m\u001b[0;34m)\u001b[0m\u001b[0;34m\u001b[0m\u001b[0m\n",
      "\u001b[0;31mModuleNotFoundError\u001b[0m: No module named 'fbpca'"
     ],
     "output_type": "error"
    }
   ],
   "source": [
    "import fbpca as fbpca\n",
    "\n",
    "\n",
    "Sigma['fbpca'], V['fbpca'] = fbpca.eigenn(A=A, k=k)"
   ]
  },
  {
   "cell_type": "markdown",
   "metadata": {},
   "source": [
    "##### Scikit-Learn's Implementation"
   ]
  },
  {
   "cell_type": "code",
   "execution_count": 17,
   "metadata": {},
   "outputs": [],
   "source": [
    "from sklearn.utils.extmath import randomized_svd\n",
    "# randomized SVD\n",
    "U['rscikit'], Sigma['rscikit'], V['rscikit'] = randomized_svd(M=A, n_components=k,\n",
    "                                                           n_iter=pow_iter)\n",
    "V['rscikit'] = V['rscikit'].T"
   ]
  },
  {
   "cell_type": "markdown",
   "metadata": {},
   "source": [
    "##### My Implementation"
   ]
  },
  {
   "cell_type": "code",
   "execution_count": 18,
   "metadata": {},
   "outputs": [],
   "source": [
    "U['asvd'], Sigma['asvd'], V['asvd'] = asvd(A, n_components=k,\n",
    "                                           size_gauss=size_gauss,\n",
    "                                           pow_iter=pow_iter)"
   ]
  },
  {
   "cell_type": "markdown",
   "metadata": {},
   "source": [
    "##### Scipy Sparse Implementation"
   ]
  },
  {
   "cell_type": "code",
   "execution_count": 19,
   "metadata": {},
   "outputs": [],
   "source": [
    "from scipy.sparse.linalg import svds\n",
    "from scipy.sparse import csr_matrix\n",
    "\n",
    "U['scipy'], Sigma['scipy'], V['scipy'] = svds(A=csr_matrix(A),k=20,\n",
    "                                              which='LM', \n",
    "                                              maxiter=pow_iter)\n",
    "\n",
    "V['scipy'] = V['scipy'].T"
   ]
  },
  {
   "cell_type": "markdown",
   "metadata": {},
   "source": [
    "### Computing the Spectral Norms"
   ]
  },
  {
   "cell_type": "code",
   "execution_count": 20,
   "metadata": {},
   "outputs": [
    {
     "ename": "NameError",
     "evalue": "name 'fbpca' is not defined",
     "traceback": [
      "\u001b[0;31m---------------------------------------------------------------------------\u001b[0m",
      "\u001b[0;31mNameError\u001b[0m                                 Traceback (most recent call last)",
      "\u001b[0;32m<ipython-input-20-e90a418fe33a>\u001b[0m in \u001b[0;36m<module>\u001b[0;34m()\u001b[0m\n\u001b[1;32m      5\u001b[0m \u001b[0;34m\u001b[0m\u001b[0m\n\u001b[1;32m      6\u001b[0m \u001b[0;32mfor\u001b[0m \u001b[0mmethod\u001b[0m \u001b[0;32min\u001b[0m \u001b[0mmethods\u001b[0m\u001b[0;34m:\u001b[0m\u001b[0;34m\u001b[0m\u001b[0m\n\u001b[0;32m----> 7\u001b[0;31m     \u001b[0mnorm\u001b[0m\u001b[0;34m[\u001b[0m\u001b[0mmethod\u001b[0m\u001b[0;34m]\u001b[0m \u001b[0;34m=\u001b[0m \u001b[0mfbpca\u001b[0m\u001b[0;34m.\u001b[0m\u001b[0mdiffsnorms\u001b[0m\u001b[0;34m(\u001b[0m\u001b[0mA\u001b[0m\u001b[0;34m,\u001b[0m \u001b[0mnp\u001b[0m\u001b[0;34m.\u001b[0m\u001b[0mdiag\u001b[0m\u001b[0;34m(\u001b[0m\u001b[0mSigma\u001b[0m\u001b[0;34m[\u001b[0m\u001b[0mmethod\u001b[0m\u001b[0;34m]\u001b[0m\u001b[0;34m)\u001b[0m\u001b[0;34m,\u001b[0m \u001b[0mV\u001b[0m\u001b[0;34m[\u001b[0m\u001b[0mmethod\u001b[0m\u001b[0;34m]\u001b[0m\u001b[0;34m)\u001b[0m\u001b[0;34m\u001b[0m\u001b[0m\n\u001b[0m\u001b[1;32m      8\u001b[0m     \u001b[0mprint\u001b[0m\u001b[0;34m(\u001b[0m\u001b[0;34m'Norm for {m} method: {n}'\u001b[0m\u001b[0;34m.\u001b[0m\u001b[0mformat\u001b[0m\u001b[0;34m(\u001b[0m\u001b[0mm\u001b[0m\u001b[0;34m=\u001b[0m\u001b[0mmethod\u001b[0m\u001b[0;34m,\u001b[0m\u001b[0mn\u001b[0m\u001b[0;34m=\u001b[0m\u001b[0mnorm\u001b[0m\u001b[0;34m[\u001b[0m\u001b[0mmethod\u001b[0m\u001b[0;34m]\u001b[0m\u001b[0;34m)\u001b[0m\u001b[0;34m)\u001b[0m\u001b[0;34m\u001b[0m\u001b[0m\n\u001b[1;32m      9\u001b[0m \u001b[0;34m\u001b[0m\u001b[0m\n",
      "\u001b[0;31mNameError\u001b[0m: name 'fbpca' is not defined"
     ],
     "output_type": "error"
    }
   ],
   "source": [
    "# compute the norm for the difference between implementations\n",
    "norm = {}\n",
    "\n",
    "methods = ['fbpca', 'rscikit', 'asvd', 'np', 'scipy']\n",
    "\n",
    "for method in methods:\n",
    "    norm[method] = fbpca.diffsnorms(A, np.diag(Sigma[method]), V[method])\n",
    "    print('Norm for {m} method: {n}'.format(m=method,n=norm[method]))\n",
    "    "
   ]
  },
  {
   "cell_type": "markdown",
   "metadata": {},
   "source": [
    "I'll be honest, I have no idea what's a good or bad spectral norm value. Typically the lower the number the better. But both numbers are so close to 1 so maybe the higher the number the better? Who knows.."
   ]
  },
  {
   "cell_type": "code",
   "execution_count": null,
   "metadata": {
    "collapsed": true
   },
   "outputs": [],
   "source": []
  }
 ],
 "metadata": {
  "anaconda-cloud": {},
  "kernelspec": {
   "display_name": "Python 3",
   "language": "python",
   "name": "python3"
  },
  "language_info": {
   "codemirror_mode": {
    "name": "ipython",
    "version": 3
   },
   "file_extension": ".py",
   "mimetype": "text/x-python",
   "name": "python",
   "nbconvert_exporter": "python",
   "pygments_lexer": "ipython3",
   "version": "3.6.1"
  }
 },
 "nbformat": 4,
 "nbformat_minor": 2
}
