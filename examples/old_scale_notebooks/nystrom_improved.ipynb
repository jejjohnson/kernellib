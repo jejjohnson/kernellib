{
 "cells": [
  {
   "cell_type": "code",
   "execution_count": null,
   "metadata": {},
   "outputs": [],
   "source": [
    "def rsvd(M, k=10):\n",
    "    m, n = M.shape\n",
    "    transpose = False\n",
    "    if m < n:\n",
    "        transpose = True\n",
    "        M = M.T\n",
    "        \n",
    "    rand_matrix = np.random.normal(size=(M.shape[1], k))  # short side by k\n",
    "    Q, _ = np.linalg.qr(M @ rand_matrix, mode='reduced')  # long side by k\n",
    "    smaller_matrix = Q.T @ M                              # k by short side\n",
    "    U_hat, s, V = np.linalg.svd(smaller_matrix, full_matrices=False)\n",
    "    U = Q @ U_hat\n",
    "    \n",
    "    if transpose:\n",
    "        return V.T, s.T, U.T\n",
    "    else:\n",
    "        return U, s, V"
   ]
  },
  {
   "cell_type": "code",
   "execution_count": null,
   "metadata": {},
   "outputs": [],
   "source": [
    "# Perform the truncated SVD\n",
    "print('\\nPerform Normal SVD...\\n')\n",
    "U, D, V = np.linalg.svd(W, full_matrices=False)\n",
    "# Perform the randomized SVD (personal)\n",
    "print('\\nPerform my RSVD...\\n')\n",
    "U_mrand, D_mrand, V_mrand = rsvd(W, k=n_components)\n",
    "# Perform the randomized SVD\n",
    "print('\\nPerform FB RSVD...\\n')\n",
    "U_frand, D_frand, V_frand = fbpca.pca(W, k=n_components, raw=True)\n",
    "# Perform the randomized SVD\n",
    "print('\\nPerform scikit RSVD...\\n')\n",
    "U_rand, D_rand, V_rand = randomized_svd(W, n_components=n_components)"
   ]
  },
  {
   "cell_type": "code",
   "execution_count": null,
   "metadata": {},
   "outputs": [],
   "source": [
    "print('Time Experiment for normal SVD.')\n",
    "%time _, _, _ = np.linalg.svd(W, full_matrices=False)\n",
    "\n",
    "print('\\nTime Experiment for randomized SVD (mine).')\n",
    "%time _, _, _ = rsvd(W, k=n_components)\n",
    "\n",
    "print('\\nTime Experiment for randomized SVD (fb).')\n",
    "%time _, _, _ = fbpca.pca(W, k=n_components, raw=True, n_iter=10)\n",
    "\n",
    "print('\\nTime Experiment for randomized SVD (scikit).')\n",
    "%time _, _, _ = randomized_svd(W, n_components=n_components);# perform the approximation (Regular truncated)\n",
    "U_approx = np.matmul(C, np.sqrt(m_components / n_samples) * np.matmul( U,  np.diag(D**(-1))))\n",
    "D_approx = (n_samples / m_components) * np.diag(D)\n",
    "\n",
    "print('Size of U approximated: {}'.format(U_approx.shape))\n",
    "print('Size of D approximated: {}'.format(D_approx.shape))\n",
    "\n",
    "# perform the approximation (Regular truncated)\n",
    "U_mrapprox = np.matmul(C, np.sqrt(m_components / n_samples) * U_mrand)\n",
    "D_mrapprox = (n_samples / m_components) * np.diag(D_mrand**(-1))\n",
    "\n",
    "print('Size of U rand approximated: {}'.format(U_mrapprox.shape))\n",
    "print('Size of D rand approximated: {}'.format(D_mrapprox.shape))\n",
    "\n",
    "# perform the approximation (Regular truncated)\n",
    "U_frapprox = np.matmul(C, np.sqrt(m_components / n_samples) * U_frand)\n",
    "D_frapprox = (n_samples / m_components) * np.diag(D_frand**(-1))\n",
    "\n",
    "print('Size of U rand approximated: {}'.format(U_frapprox.shape))\n",
    "print('Size of D rand approximated: {}'.format(D_frapprox.shape))\n",
    "\n",
    "U_rapprox = np.matmul(C, np.sqrt(m_components / n_samples) * U_rand)\n",
    "D_rapprox = (n_samples / m_components) * np.diag(D_rand**(-1))\n",
    "\n",
    "print('Size of U rand approximated: {}'.format(U_rapprox.shape))\n",
    "print('Size of D rand approximated: {}'.format(D_rapprox.shape))"
   ]
  },
  {
   "cell_type": "code",
   "execution_count": null,
   "metadata": {},
   "outputs": [],
   "source": [
    "# check error for rsvd reconstruction\n",
    "err = np.linalg.norm(W - np.matmul(U, np.matmul(D, V.T)), 'fro')\n",
    "mrerr = np.linalg.norm(W - np.matmul(U_mrand, np.matmul(D_mrand, V_mrand.T)), 'fro')\n",
    "frerr = np.linalg.norm(W - np.matmul(U_frand, np.matmul(D_frand, V_frand.T)), 'fro')\n",
    "rerr = np.linalg.norm(W - np.matmul(U_rand, np.matmul(D_rand, V_rand.T)), 'fro')\n",
    "\n",
    "print('Error (Normal): {:.3e}'.format(err))\n",
    "print('Error (Randomized - my): {:.3e}'.format(mrerr))\n",
    "print('Error (Randomized - fb): {:.3e}'.format(frerr))\n",
    "print('Error (Randomized - scikit): {:.3e}'.format(rerr))"
   ]
  },
  {
   "cell_type": "code",
   "execution_count": null,
   "metadata": {},
   "outputs": [],
   "source": [
    "# check error for nystrom reconstruction\n",
    "err = np.linalg.norm(K - np.matmul(U_approx, np.matmul(D_approx, U_approx.T)), 'fro')\n",
    "mrerr = np.linalg.norm(K - np.matmul(U_mrapprox, np.matmul(D_mrapprox, U_mrapprox.T)), 'fro')\n",
    "frerr = np.linalg.norm(K - np.matmul(U_frapprox, np.matmul(D_frapprox, U_frapprox.T)), 'fro')\n",
    "rerr = np.linalg.norm(K - np.matmul(U_rapprox, np.matmul(D_rapprox, U_rapprox.T)), 'fro')\n",
    "\n",
    "print('Error (Normal): {:.3e}'.format(err))\n",
    "print('Error (Randomized - my): {:.3e}'.format(mrerr))\n",
    "print('Error (Randomized - fb): {:.3e}'.format(frerr))\n",
    "print('Error (Randomized - scikit): {:.3e}'.format(rerr))"
   ]
  },
  {
   "cell_type": "code",
   "execution_count": null,
   "metadata": {},
   "outputs": [],
   "source": []
  }
 ],
 "metadata": {
  "kernelspec": {
   "display_name": "Python 3",
   "language": "python",
   "name": "python3"
  },
  "language_info": {
   "codemirror_mode": {
    "name": "ipython",
    "version": 3
   },
   "file_extension": ".py",
   "mimetype": "text/x-python",
   "name": "python",
   "nbconvert_exporter": "python",
   "pygments_lexer": "ipython3",
   "version": "3.6.6"
  }
 },
 "nbformat": 4,
 "nbformat_minor": 2
}
