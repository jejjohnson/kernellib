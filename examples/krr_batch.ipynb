{
 "cells": [
  {
   "cell_type": "code",
   "execution_count": 1,
   "metadata": {},
   "outputs": [],
   "source": [
    "import numpy as np\n",
    "import warnings \n",
    "from sklearn.model_selection import train_test_split\n",
    "import scipy as scio\n",
    "from scipy.spatial.distance import pdist\n",
    "from scipy.linalg import cho_factor, cho_solve, cholesky\n",
    "from sklearn.model_selection import KFold\n",
    "from sklearn.metrics.pairwise import rbf_kernel\n",
    "from sklearn.metrics import mean_squared_error\n",
    "from sklearn.utils import check_array, check_random_state\n",
    "from sklearn.linear_model.ridge import _solve_cholesky_kernel as kernel_solve\n",
    "from time import time\n",
    "\n",
    "%matplotlib inline\n",
    "import matplotlib.pyplot as plt\n",
    "\n",
    "warnings.filterwarnings('ignore')"
   ]
  },
  {
   "cell_type": "code",
   "execution_count": 2,
   "metadata": {},
   "outputs": [
    {
     "data": {
      "image/png": "[encoded data removed]",
      "text/plain": [
       "<matplotlib.figure.Figure at 0x119a2f6d8>"
      ]
     },
     "metadata": {},
     "output_type": "display_data"
    }
   ],
   "source": [
    "# generate datasets\n",
    "random_state = 123\n",
    "num_points = 10000\n",
    "\n",
    "x_data = np.linspace(-2*np.pi, 2*np.pi, num=num_points)\n",
    "y_data = np.sin(x_data)\n",
    "\n",
    "# add some noise\n",
    "generator = check_random_state(random_state)\n",
    "y_data += 0.2 * generator.randn(num_points)\n",
    "\n",
    "# convert to 2D, float array for scikit-learn input\n",
    "x_data = x_data[:, np.newaxis].astype(np.float)\n",
    "y_data = y_data[:, np.newaxis].astype(np.float)\n",
    "\n",
    "\n",
    "# split data into training and testing\n",
    "train_percent = 0.15\n",
    "\n",
    "x_train, x_test, y_train, y_test = train_test_split(\n",
    "    x_data, y_data, train_size=train_percent,\n",
    "    random_state=random_state\n",
    ")\n",
    "\n",
    "# plot the training data\n",
    "fig, ax = plt.subplots()\n",
    "\n",
    "ax.scatter(x_train[::10], y_train[::10], color='k', label='Training')\n",
    "ax.scatter(x_test[::10], y_test[::10], color='r', marker='+', label='Testing')\n",
    "\n",
    "ax.legend()\n",
    "plt.show()\n",
    "\n",
    "# remove the mean from the training data\n",
    "y_mean = np.mean(y_train)\n",
    "\n",
    "y_train -= y_mean\n",
    "y_test -= y_mean"
   ]
  },
  {
   "cell_type": "code",
   "execution_count": 3,
   "metadata": {},
   "outputs": [],
   "source": [
    "# parameter heuristics\n",
    "mean_sigma = np.mean(pdist(x_train, metric='euclidean'))\n",
    "lam = 1.0\n",
    "\n",
    "mean_gamma = 1 / (2 * mean_sigma ** 2)\n",
    "\n",
    "# construct kernel matrices\n",
    "K_train = rbf_kernel(X=x_train, gamma=mean_gamma)"
   ]
  },
  {
   "cell_type": "markdown",
   "metadata": {},
   "source": [
    "### Different Solvers"
   ]
  },
  {
   "cell_type": "code",
   "execution_count": 4,
   "metadata": {},
   "outputs": [],
   "source": [
    "weights = {}\n",
    "times = {}"
   ]
  },
  {
   "cell_type": "code",
   "execution_count": 5,
   "metadata": {},
   "outputs": [
    {
     "name": "stdout",
     "output_type": "stream",
     "text": [
      "Time taken for solve: 0.1242 secs\n"
     ]
    }
   ],
   "source": [
    "# slow method: solve problem\n",
    "t0 = time()\n",
    "weights['solver'] = \\\n",
    "    scio.linalg.solve(K_train + lam * np.eye(x_train.shape[0]), \n",
    "                      y_train)\n",
    "t1 = time() - t0\n",
    "print('Time taken for solve: {:.4f} secs'.format(t1))"
   ]
  },
  {
   "cell_type": "code",
   "execution_count": 6,
   "metadata": {},
   "outputs": [
    {
     "name": "stdout",
     "output_type": "stream",
     "text": [
      "Time taken for scikit-solver: 0.0854 secs\n"
     ]
    }
   ],
   "source": [
    "# scikit kernel cholesky solver\n",
    "t0 = time()\n",
    "weights['scikit_solver'] = kernel_solve(K_train, y_train, lam)\n",
    "t1 = time() - t0\n",
    "print('Time taken for scikit-solver: {:.4f} secs'.format(t1))"
   ]
  },
  {
   "cell_type": "code",
   "execution_count": 7,
   "metadata": {},
   "outputs": [
    {
     "name": "stdout",
     "output_type": "stream",
     "text": [
      "Time taken for cholesky manually: 0.2276 secs\n"
     ]
    }
   ],
   "source": [
    "# cholesky: decomposition: manually\n",
    "t0 = time()\n",
    "R = cholesky(K_train + lam * np.eye(x_train.shape[0]))\n",
    "weights['chol_solver'] = scio.linalg.solve(R, scio.linalg.solve(R.T, y_train))\n",
    "t1 = time() - t0\n",
    "print('Time taken for cholesky manually: {:.4f} secs'.format(t1))"
   ]
  },
  {
   "cell_type": "code",
   "execution_count": 8,
   "metadata": {},
   "outputs": [
    {
     "name": "stdout",
     "output_type": "stream",
     "text": [
      "\n",
      "Time taken for cholesky with functions: 0.0579 secs\n",
      "\n"
     ]
    }
   ],
   "source": [
    "# cholesky decomposition: with functions\n",
    "t0 = time()\n",
    "R, lower = cho_factor(K_train + lam * np.eye(x_train.shape[0]))\n",
    "weights['chol_factor'] = cho_solve((R, lower), y_train)\n",
    "t1 = time() - t0\n",
    "print('\\nTime taken for cholesky with functions: {:.4f} secs\\n'.format(t1))"
   ]
  },
  {
   "cell_type": "markdown",
   "metadata": {},
   "source": [
    "#### Are they the same?"
   ]
  },
  {
   "cell_type": "code",
   "execution_count": 9,
   "metadata": {},
   "outputs": [
    {
     "name": "stdout",
     "output_type": "stream",
     "text": [
      "Scikit Solver: True\n",
      "Cholesky Solver: True\n",
      "Cholesky Factor: True\n"
     ]
    }
   ],
   "source": [
    "print('Scikit Solver: {}'.format(\n",
    "    np.allclose(weights['scikit_solver'],\n",
    "                weights['solver'])))\n",
    "\n",
    "print('Cholesky Solver: {}'.format(\n",
    "    np.allclose(weights['chol_solver'],\n",
    "                weights['solver'])))\n",
    "\n",
    "print('Cholesky Factor: {}'.format(\n",
    "    np.allclose(weights['chol_factor'],\n",
    "                weights['solver'])))"
   ]
  },
  {
   "cell_type": "markdown",
   "metadata": {},
   "source": [
    "#### Are they faster?"
   ]
  },
  {
   "cell_type": "code",
   "execution_count": 10,
   "metadata": {},
   "outputs": [],
   "source": [
    "def chol_solver(x, y, K, lam):\n",
    "    \n",
    "    R = cholesky(K + lam * np.eye(x.shape[0]))\n",
    "    \n",
    "    return scio.linalg.solve(R, scio.linalg.solve(R.T, y))\n",
    "\n",
    "def chol_factor(x, y, K, lam):\n",
    "    \n",
    "    R, lower = cho_factor(K + lam * np.eye(x.shape[0]))\n",
    "    \n",
    "    return cho_solve((R, lower), y)"
   ]
  },
  {
   "cell_type": "code",
   "execution_count": 11,
   "metadata": {},
   "outputs": [],
   "source": [
    "# solver_time = %timeit -o scio.linalg.solve(K_train + lam * np.eye(x_train.shape[0]), y_train)\n",
    "# scikit_time = %timeit -o kernel_solve(K_train, y_train, lam)\n",
    "# chol_solver_time = %timeit -o chol_solver(x_train, y_train, K_train, lam)\n",
    "# chol_factor_time = %timeit -o chol_solver(x_train, y_train, K_train, lam)"
   ]
  },
  {
   "cell_type": "markdown",
   "metadata": {},
   "source": [
    "### Predictions (Normal)\n"
   ]
  },
  {
   "cell_type": "code",
   "execution_count": 12,
   "metadata": {},
   "outputs": [
    {
     "name": "stdout",
     "output_type": "stream",
     "text": [
      "4.85 s ± 312 ms per loop (mean ± std. dev. of 7 runs, 1 loop each)\n"
     ]
    }
   ],
   "source": [
    "%%timeit\n",
    "\n",
    "# calculate the kernel test matrix\n",
    "K_test = rbf_kernel(X=x_test, gamma=mean_gamma)\n",
    "\n",
    "# calculate the inverse matrix\n",
    "K_train_inv = np.linalg.inv(K_train)\n",
    "\n",
    "# calculate the train-test Kernel matrix\n",
    "K_traintest = rbf_kernel(x_train, x_test, gamma=mean_gamma)\n",
    "\n",
    "# calculate the predictions\n",
    "y_pred = K_traintest.T @ weights['solver']\n",
    "\n",
    "# calculate the variance\n",
    "y_var = np.diag(K_test) - np.diag(K_traintest.T @ K_train_inv @ K_traintest)"
   ]
  },
  {
   "cell_type": "markdown",
   "metadata": {},
   "source": [
    "### Predictions (Batch)"
   ]
  },
  {
   "cell_type": "code",
   "execution_count": 15,
   "metadata": {},
   "outputs": [
    {
     "name": "stdout",
     "output_type": "stream",
     "text": [
      "Number of Test samples:  8500\n",
      "Number of samples per batch:  100\n",
      "Number of batches: 85\n"
     ]
    }
   ],
   "source": [
    "# split testing data (K-fold)\n",
    "n_samples, n_dimensions = x_test.shape\n",
    "n_samples_per_batch = 100\n",
    "n_batches = int(np.round(n_samples / n_samples_per_batch))\n",
    "\n",
    "print(\"Number of Test samples: \", n_samples)\n",
    "print(\"Number of samples per batch: \", n_samples_per_batch)\n",
    "print(\"Number of batches: {}\".format(n_batches))"
   ]
  },
  {
   "cell_type": "code",
   "execution_count": 16,
   "metadata": {},
   "outputs": [
    {
     "name": "stdout",
     "output_type": "stream",
     "text": [
      "1.01 s ± 93.3 ms per loop (mean ± std. dev. of 7 runs, 1 loop each)\n"
     ]
    }
   ],
   "source": [
    "%%timeit\n",
    "\n",
    "# Create Batch Iterator Object\n",
    "BatchIterator = KFold(n_splits=n_batches)\n",
    "\n",
    "# predefine matrices\n",
    "y_pred = np.empty(y_test.shape)\n",
    "variance = np.empty(y_test.shape) \n",
    "\n",
    "# calculate the inverse matrix\n",
    "K_train_inv = np.linalg.inv(K_train)\n",
    "\n",
    "for (ibatch, (_, ibatch_index)) in enumerate(BatchIterator.split(x_test)):\n",
    "    \n",
    "    # calculate the train-test kernel\n",
    "    K_traintest = rbf_kernel(x_train, x_test[ibatch_index], \n",
    "                             gamma=mean_gamma)\n",
    "    \n",
    "    # calculate the predictions\n",
    "    y_pred[ibatch_index] = K_traintest.T @ weights['solver']\n",
    "    \n",
    "    # calculate the variance\n",
    "    K_batch = rbf_kernel(x_test[ibatch_index], gamma=mean_gamma)\n",
    "    \n",
    "    variance[ibatch_index, 0] = np.diag(K_batch) - \\\n",
    "        np.diag(K_traintest.T @ K_train_inv @ K_traintest)"
   ]
  },
  {
   "cell_type": "code",
   "execution_count": 18,
   "metadata": {},
   "outputs": [],
   "source": [
    "BatchIterator = KFold(n_splits=n_batches)\n",
    "\n",
    "# predefine matrices\n",
    "y_pred = np.empty(y_test.shape)\n",
    "variance = np.empty(y_test.shape) \n",
    "\n",
    "# calculate the inverse matrix\n",
    "K_train_inv = np.linalg.inv(K_train)\n",
    "\n",
    "for (ibatch, (_, ibatch_index)) in enumerate(BatchIterator.split(x_test)):\n",
    "    \n",
    "    # calculate the train-test kernel\n",
    "    K_traintest = rbf_kernel(x_train, x_test[ibatch_index], \n",
    "                             gamma=mean_gamma)\n",
    "    \n",
    "    # calculate the predictions\n",
    "    y_pred[ibatch_index] = K_traintest.T @ weights['solver']\n",
    "    \n",
    "    # calculate the variance\n",
    "    K_batch = rbf_kernel(x_test[ibatch_index], gamma=mean_gamma)\n",
    "    \n",
    "    variance[ibatch_index, 0] = np.diag(K_batch) - \\\n",
    "        np.diag(K_traintest.T @ K_train_inv @ K_traintest)"
   ]
  },
  {
   "cell_type": "code",
   "execution_count": 19,
   "metadata": {},
   "outputs": [
    {
     "data": {
      "image/png": "[encoded data removed]",
      "text/plain": [
       "<matplotlib.figure.Figure at 0x11ba7d240>"
      ]
     },
     "metadata": {},
     "output_type": "display_data"
    }
   ],
   "source": [
    "fig, ax = plt.subplots()\n",
    "\n",
    "ax.scatter(x_test[::20], y_test[::20], color='b', label='Test Points')\n",
    "ax.scatter(x_test[::20], y_pred[::20], color='g', label='KRR Predictions')\n",
    "\n",
    "\n",
    "ax.legend()\n",
    "plt.show()"
   ]
  },
  {
   "cell_type": "code",
   "execution_count": null,
   "metadata": {},
   "outputs": [],
   "source": []
  }
 ],
 "metadata": {
  "kernelspec": {
   "display_name": "Python 3",
   "language": "python",
   "name": "python3"
  },
  "language_info": {
   "codemirror_mode": {
    "name": "ipython",
    "version": 3
   },
   "file_extension": ".py",
   "mimetype": "text/x-python",
   "name": "python",
   "nbconvert_exporter": "python",
   "pygments_lexer": "ipython3",
   "version": "3.6.4"
  }
 },
 "nbformat": 4,
 "nbformat_minor": 2
}
