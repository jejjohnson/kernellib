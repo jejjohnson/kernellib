{
 "cells": [
  {
   "cell_type": "code",
   "execution_count": 23,
   "metadata": {
    "collapsed": true
   },
   "outputs": [],
   "source": [
    "import numpy as np\n",
    "import warnings \n",
    "from sklearn.model_selection import train_test_split\n",
    "from sklearn.datasets import make_regression\n",
    "import scipy as scio\n",
    "from scipy.spatial.distance import pdist\n",
    "from scipy.linalg import cho_factor, cho_solve, cholesky\n",
    "from sklearn.metrics.pairwise import rbf_kernel\n",
    "from sklearn.metrics import mean_squared_error\n",
    "from sklearn.utils import check_array, check_random_state\n",
    "from sklearn.linear_model.ridge import _solve_cholesky_kernel as kernel_solve\n",
    "from time import time\n",
    "from sklearn.decomposition import TruncatedSVD\n",
    "\n",
    "%matplotlib inline\n",
    "import matplotlib.pyplot as plt\n",
    "\n",
    "warnings.filterwarnings('ignore')"
   ]
  },
  {
   "cell_type": "markdown",
   "metadata": {},
   "source": [
    "## Generate Data"
   ]
  },
  {
   "cell_type": "code",
   "execution_count": 24,
   "metadata": {},
   "outputs": [
    {
     "name": "stdout",
     "output_type": "stream",
     "text": [
      "Shape of X:  (2000, 100) (8000, 100)\n"
     ]
    }
   ],
   "source": [
    "# generate datasets\n",
    "random_state = 123\n",
    "n_samples = 10000\n",
    "n_features = 100\n",
    "\n",
    "# create data\n",
    "x_data, y_data = make_regression(n_samples=n_samples,\n",
    "                                 n_features=n_features,\n",
    "                                 random_state=random_state)\n",
    "\n",
    "\n",
    "\n",
    "# split data into training and testing\n",
    "train_percent = 0.2\n",
    "\n",
    "x_train, x_test, y_train, y_test = train_test_split(\n",
    "    x_data, y_data, train_size=train_percent,\n",
    "    random_state=random_state\n",
    ")\n",
    "\n",
    "# remove the mean from the training data\n",
    "y_mean = np.mean(y_train)\n",
    "\n",
    "y_train -= y_mean\n",
    "y_test -= y_mean\n",
    "\n",
    "n_samples = x_train.shape\n",
    "print('Shape of X: ', x_train.shape, x_test.shape)"
   ]
  },
  {
   "cell_type": "markdown",
   "metadata": {},
   "source": [
    "## Nystrom Approximation of a Kernel Matrix"
   ]
  },
  {
   "cell_type": "markdown",
   "metadata": {},
   "source": [
    "#### Kernel Matrix of Data"
   ]
  },
  {
   "cell_type": "code",
   "execution_count": 25,
   "metadata": {},
   "outputs": [
    {
     "name": "stdout",
     "output_type": "stream",
     "text": [
      "Size of Kernel matrix:  (2000, 2000)\n"
     ]
    }
   ],
   "source": [
    "sigma = np.mean(pdist(x_train, metric='euclidean'))\n",
    "gamma = 1 / (2 * sigma**2)\n",
    "\n",
    "K = rbf_kernel(x_train, gamma=gamma)\n",
    "\n",
    "print('Size of Kernel matrix: ', K.shape)"
   ]
  },
  {
   "cell_type": "markdown",
   "metadata": {},
   "source": [
    "#### Sampling"
   ]
  },
  {
   "cell_type": "code",
   "execution_count": 26,
   "metadata": {},
   "outputs": [
    {
     "name": "stdout",
     "output_type": "stream",
     "text": [
      "Size of the sampled K matrix, C:  (2000, 1200)\n",
      "Size of m-by-m intersection matrix, W:  (1200, 1200)\n"
     ]
    }
   ],
   "source": [
    "# uniform sampling without replacement\n",
    "indices = np.random.permutation(n_samples)\n",
    "\n",
    "# choose the number of column indices\n",
    "n_column_indices = 1200\n",
    "\n",
    "# choose the columns randomly from the matrix\n",
    "C = K[:, :n_column_indices]\n",
    "\n",
    "print('Size of the sampled K matrix, C: ', C.shape)\n",
    "\n",
    "# get the other sampled columns\n",
    "W = C[:n_column_indices, :]\n",
    "\n",
    "print('Size of m-by-m intersection matrix, W: ', W.shape)"
   ]
  },
  {
   "cell_type": "markdown",
   "metadata": {},
   "source": [
    "#### Truncated SVD"
   ]
  },
  {
   "cell_type": "code",
   "execution_count": 35,
   "metadata": {},
   "outputs": [
    {
     "name": "stdout",
     "output_type": "stream",
     "text": [
      "Time taken for normal SVD: 10.7687 seconds\n",
      "Size of V: (1200, 1000)\n",
      "Size of D: (1000, 1000)\n"
     ]
    }
   ],
   "source": [
    "k_components = 1000\n",
    "t0 = time()\n",
    "normal_svd = TruncatedSVD(n_components=k_components,\n",
    "                          algorithm='arpack',\n",
    "                          random_state=123)\n",
    "\n",
    "V =  normal_svd.fit_transform(W)\n",
    "D = np.diag(normal_svd.singular_values_)\n",
    "\n",
    "t1 = time() - t0\n",
    "print('Time taken for normal SVD: {:.4f} seconds'.format(t1))\n",
    "\n",
    "print('Size of V:', V.shape)\n",
    "print('Size of D:', D.shape)"
   ]
  },
  {
   "cell_type": "code",
   "execution_count": 36,
   "metadata": {},
   "outputs": [
    {
     "name": "stdout",
     "output_type": "stream",
     "text": [
      "Time taken for randomized SVD: 1.0368 seconds\n",
      "Size of rV: (1200, 1000)\n",
      "Size of rD: (1000, 1000)\n"
     ]
    }
   ],
   "source": [
    "t0 = time()\n",
    "\n",
    "r_svd = TruncatedSVD(n_components=k_components,\n",
    "                          algorithm='randomized',\n",
    "                          random_state=123)\n",
    "\n",
    "rV =  r_svd.fit_transform(W)\n",
    "rD = np.diag(normal_svd.singular_values_)\n",
    "\n",
    "t1 = time() - t0\n",
    "print('Time taken for randomized SVD: {:.4f} seconds'.format(t1))\n",
    "\n",
    "\n",
    "print('Size of rV:', rV.shape)\n",
    "print('Size of rD:', rD.shape)"
   ]
  },
  {
   "cell_type": "code",
   "execution_count": null,
   "metadata": {
    "collapsed": true
   },
   "outputs": [],
   "source": []
  }
 ],
 "metadata": {
  "kernelspec": {
   "display_name": "Python 3",
   "language": "python",
   "name": "python3"
  },
  "language_info": {
   "codemirror_mode": {
    "name": "ipython",
    "version": 3
   },
   "file_extension": ".py",
   "mimetype": "text/x-python",
   "name": "python",
   "nbconvert_exporter": "python",
   "pygments_lexer": "ipython3",
   "version": "3.6.1"
  },
  "toc": {
   "nav_menu": {},
   "number_sections": true,
   "sideBar": true,
   "skip_h1_title": false,
   "toc_cell": false,
   "toc_position": {},
   "toc_section_display": "block",
   "toc_window_display": false
  },
  "varInspector": {
   "cols": {
    "lenName": 16,
    "lenType": 16,
    "lenVar": 40
   },
   "kernels_config": {
    "python": {
     "delete_cmd_postfix": "",
     "delete_cmd_prefix": "del ",
     "library": "var_list.py",
     "varRefreshCmd": "print(var_dic_list())"
    },
    "r": {
     "delete_cmd_postfix": ") ",
     "delete_cmd_prefix": "rm(",
     "library": "var_list.r",
     "varRefreshCmd": "cat(var_dic_list()) "
    }
   },
   "types_to_exclude": [
    "module",
    "function",
    "builtin_function_or_method",
    "instance",
    "_Feature"
   ],
   "window_display": false
  }
 },
 "nbformat": 4,
 "nbformat_minor": 2
}
