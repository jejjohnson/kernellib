{
 "cells": [
  {
   "cell_type": "code",
   "execution_count": 1,
   "metadata": {},
   "outputs": [
    {
     "ename": "SyntaxError",
     "evalue": "invalid syntax (<ipython-input-1-f34ba51358de>, line 1)",
     "output_type": "error",
     "traceback": [
      "\u001b[0;36m  File \u001b[0;32m\"<ipython-input-1-f34ba51358de>\"\u001b[0;36m, line \u001b[0;32m1\u001b[0m\n\u001b[0;31m    1pwd\u001b[0m\n\u001b[0m       ^\u001b[0m\n\u001b[0;31mSyntaxError\u001b[0m\u001b[0;31m:\u001b[0m invalid syntax\n"
     ]
    }
   ],
   "source": [
    "1pwd"
   ]
  },
  {
   "cell_type": "code",
   "execution_count": null,
   "metadata": {},
   "outputs": [],
   "source": []
  },
  {
   "cell_type": "code",
   "execution_count": null,
   "metadata": {},
   "outputs": [],
   "source": [
    "random_state = 123      # reproducibility\n",
    "\n",
    "x_train, x_test, y_train, y_test = generate_data(random_state=random_state)\n",
    "\n"
   ]
  },
  {
   "cell_type": "code",
   "execution_count": null,
   "metadata": {},
   "outputs": [],
   "source": [
    "# Experimental Parameters\n",
    "n_components = 100          # number of sample components to keep\n",
    "k_rank = 50                 # rank of the matrix for rsvd\n",
    "lam = 1e-3                  # regularization parameter\n",
    "kernel = 'rbf'              # rbf kernel matrix\n",
    "sigma = np.mean(pdist(x_train, metric='euclidean'))\n",
    "gamma = 1 / (2 * sigma**2)  # length scale for rbf kernel"
   ]
  },
  {
   "cell_type": "markdown",
   "metadata": {},
   "source": [
    "### Random Fourier Features Approximation"
   ]
  },
  {
   "cell_type": "code",
   "execution_count": null,
   "metadata": {},
   "outputs": [],
   "source": []
  },
  {
   "cell_type": "code",
   "execution_count": null,
   "metadata": {},
   "outputs": [],
   "source": [
    "\n",
    "\n",
    "    # -----------------------------\n",
    "    # KRR RRF Approximation\n",
    "    # -----------------------------\n",
    "\n",
    "\n",
    "    # -----------------------------\n",
    "    # RBF Sampler Approximation\n",
    "    # -----------------------------\n",
    "    t0 = time()\n",
    "\n",
    "    krr_nystrom = KRRRBFSampler(lam=lam, kernel=kernel, sigma=sigma,\n",
    "                             n_components=2000,\n",
    "                             random_state=random_state)\n",
    "\n",
    "    krr_nystrom.fit(x_train, y_train)\n",
    "\n",
    "    y_pred = krr_nystrom.predict(x_test)\n",
    "\n",
    "    t1 = time() - t0\n",
    "    print('RBF Sampler (time): {:.4f} secs'.format(t1))\n",
    "\n",
    "    error_nystrom = mean_squared_error(y_pred.squeeze(), y_test.squeeze())\n",
    "    print('RBF Sampler (MSE): {:5f}'.format(error_nystrom))\n",
    "\n",
    "    # -----------------------------\n",
    "    # Nystrom Approximation\n",
    "    # -----------------------------\n",
    "    t0 = time()\n",
    "\n",
    "    krr_nystrom = KRRNystrom(lam=lam, kernel=kernel, sigma=sigma,\n",
    "                             n_components=n_components, k_rank=k_rank,\n",
    "                             random_state=random_state)\n",
    "\n",
    "    krr_nystrom.fit(x_train, y_train)\n",
    "\n",
    "    y_pred = krr_nystrom.predict(x_test)\n",
    "\n",
    "    t1 = time() - t0\n",
    "    print('Nystrom (time): {:.4f} secs'.format(t1))\n",
    "\n",
    "    error_nystrom = mean_squared_error(y_pred.squeeze(), y_test.squeeze())\n",
    "    print('Nystrom (MSE): {:5f}'.format(error_nystrom))\n",
    "\n",
    "    # -----------------------------\n",
    "    # Sklearn KRR \n",
    "    # -----------------------------\n"
   ]
  },
  {
   "cell_type": "code",
   "execution_count": null,
   "metadata": {},
   "outputs": [],
   "source": [
    "RBF Sampler"
   ]
  }
 ],
 "metadata": {
  "kernelspec": {
   "display_name": "Python 3",
   "language": "python",
   "name": "python3"
  },
  "language_info": {
   "codemirror_mode": {
    "name": "ipython",
    "version": 3
   },
   "file_extension": ".py",
   "mimetype": "text/x-python",
   "name": "python",
   "nbconvert_exporter": "python",
   "pygments_lexer": "ipython3",
   "version": "3.6.4"
  }
 },
 "nbformat": 4,
 "nbformat_minor": 2
}
