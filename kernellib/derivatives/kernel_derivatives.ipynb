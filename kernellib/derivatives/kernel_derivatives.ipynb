{
 "cells": [
  {
   "cell_type": "code",
   "execution_count": 1,
   "metadata": {},
   "outputs": [],
   "source": [
    "from derivatives import rbf_derivative, rbf_derivative_memory, rbf_derivative_slow\n",
    "import numpy as np\n",
    "from sklearn.datasets import load_boston, make_regression\n",
    "from sklearn.metrics import mean_squared_error\n",
    "from sklearn.metrics.pairwise import rbf_kernel\n",
    "\n",
    "from sklearn.model_selection import GridSearchCV, train_test_split\n",
    "from sklearn.preprocessing import scale\n",
    "import time"
   ]
  },
  {
   "cell_type": "code",
   "execution_count": 2,
   "metadata": {},
   "outputs": [
    {
     "name": "stderr",
     "output_type": "stream",
     "text": [
      "/home/emmanuel/anaconda3/envs/py36/lib/python3.6/site-packages/sklearn/model_selection/_split.py:2010: FutureWarning: From version 0.21, test_size will always complement train_size unless both are specified.\n",
      "  FutureWarning)\n"
     ]
    }
   ],
   "source": [
    "boston = load_boston()\n",
    "x, y = scale(boston.data), scale(boston.target)\n",
    "# x, y = make_regression(n_samples=1000, n_features=50, n_informative=50)\n",
    "\n",
    "y_pred = {}\n",
    "mse = {}\n",
    "derivative = {}\n",
    "\n",
    "random_state = 123\n",
    "train_percent = 0.3\n",
    "x_train, x_test, y_train, y_test = train_test_split(x, y, train_size=train_percent)"
   ]
  },
  {
   "cell_type": "markdown",
   "metadata": {},
   "source": [
    "### KRR "
   ]
  },
  {
   "cell_type": "code",
   "execution_count": 3,
   "metadata": {},
   "outputs": [],
   "source": [
    "from sklearn.kernel_ridge import KernelRidge"
   ]
  },
  {
   "cell_type": "code",
   "execution_count": 4,
   "metadata": {},
   "outputs": [
    {
     "name": "stdout",
     "output_type": "stream",
     "text": [
      "MSE, KRR: 0.3573\n"
     ]
    }
   ],
   "source": [
    "param_grid = {\n",
    "    'alpha': np.array([0.0001, 0.001, 0.01, 0.1, 1.]) / x_train.shape[0],\n",
    "    'gamma': x_train.shape[1] / 2*np.logspace(-6, 6, num=10)\n",
    "}\n",
    "\n",
    "grid_search = GridSearchCV(\n",
    "    KernelRidge(),\n",
    "    param_grid=param_grid,\n",
    "    n_jobs=2\n",
    ")\n",
    "\n",
    "grid_search.fit(x_train, y_train)\n",
    "\n",
    "krr_model = grid_search.best_estimator_\n",
    "\n",
    "y_pred['krr'] = krr_model.predict(x_test)\n",
    "\n",
    "\n",
    "mse['krr'] = mean_squared_error(y_pred['krr'], y_test)\n",
    "\n",
    "print('MSE, KRR: {:.4f}'.format(mse['krr']))\n",
    "\n",
    "weights = krr_model.dual_coef_\n",
    "gamma = krr_model.gamma\n",
    "lam = krr_model.alpha"
   ]
  },
  {
   "cell_type": "code",
   "execution_count": 6,
   "metadata": {},
   "outputs": [],
   "source": [
    "from derivatives import (rbf_derivative,\n",
    "                         rbf_derivative_slow,\n",
    "                         rbf_derivative_memory)"
   ]
  },
  {
   "cell_type": "code",
   "execution_count": 7,
   "metadata": {},
   "outputs": [
    {
     "name": "stdout",
     "output_type": "stream",
     "text": [
      "3.31 ms ± 317 µs per loop (mean ± std. dev. of 7 runs, 100 loops each)\n",
      "669 ms ± 7.21 ms per loop (mean ± std. dev. of 7 runs, 1 loop each)\n",
      "15.1 ms ± 604 µs per loop (mean ± std. dev. of 7 runs, 100 loops each)\n"
     ]
    }
   ],
   "source": [
    "kernel_mat = rbf_kernel(x_train, x_test, gamma=gamma)\n",
    "%timeit rbf_derivative(x_train, x_test, weights, gamma)\n",
    "%timeit rbf_derivative_slow(x_train, x_test, weights, gamma=gamma)\n",
    "%timeit rbf_derivative_memory(x_train, x_test, weights, gamma=gamma)"
   ]
  },
  {
   "cell_type": "markdown",
   "metadata": {},
   "source": [
    "### Derivative - Slow Way"
   ]
  },
  {
   "cell_type": "code",
   "execution_count": 8,
   "metadata": {},
   "outputs": [
    {
     "name": "stdout",
     "output_type": "stream",
     "text": [
      "Shape of x_test:  (355, 13)\n",
      "Derivative (Slow): 0.6928 secs\n",
      "Shape:  (355, 13)\n"
     ]
    }
   ],
   "source": [
    "t0 = time.time()\n",
    "\n",
    "derivative['slow'] = np.zeros(shape=x_test.shape)\n",
    "\n",
    "derivative['slow'] = rbf_derivative_slow(x_train, x_test, weights, gamma=gamma)          \n",
    "\n",
    "t1_slow = time.time() - t0\n",
    "\n",
    "\n",
    "\n",
    "print('Shape of x_test: ', format(x_test.shape))\n",
    "print('Derivative (Slow): {:.4f} secs'.format(t1_slow))\n",
    "print('Shape: ', derivative['slow'].shape)"
   ]
  },
  {
   "cell_type": "markdown",
   "metadata": {},
   "source": [
    "### Derivative - Paper"
   ]
  },
  {
   "cell_type": "code",
   "execution_count": 9,
   "metadata": {},
   "outputs": [
    {
     "name": "stdout",
     "output_type": "stream",
     "text": [
      "Derivative (Paper): 0.0043 secs\n",
      "Derivative shape: (355, 13)\n",
      "6.5e-06\n",
      "(151, 13) (355, 13)\n"
     ]
    }
   ],
   "source": [
    "num_test = x_test.shape[0]\n",
    "derivative['paper'] = np.zeros(shape=x_test.shape)\n",
    "kernel_mat = rbf_kernel(x_test, x_train, gamma=gamma)\n",
    "constant = 2 * gamma\n",
    "t0 = time.time()\n",
    "# for itest in range(num_test):\n",
    "#     derivative['paper'][itest, :] = \\\n",
    "#     np.dot((x_test[itest, :] - x_train).T, (kernel_mat[itest, :] * weights).T)\n",
    "# derivative['paper'] *= - 2 * gamma\n",
    "\n",
    "derivative['paper'] = rbf_derivative(x_train, x_test, weights, gamma)\n",
    "\n",
    "t1_paper = time.time() - t0\n",
    "print('Derivative (Paper): {:.4f} secs'.format(t1_paper))\n",
    "print('Derivative shape:', derivative['paper'].shape)\n",
    "print(gamma)\n",
    "print(x_train.shape, x_test.shape)"
   ]
  },
  {
   "cell_type": "code",
   "execution_count": 10,
   "metadata": {},
   "outputs": [
    {
     "name": "stdout",
     "output_type": "stream",
     "text": [
      "Speedup: x159.9\n"
     ]
    }
   ],
   "source": [
    "np.testing.assert_array_almost_equal(derivative['paper'],\n",
    "                                     derivative['slow'])\n",
    "\n",
    "print('Speedup: x{:.1f}'.format(t1_slow/t1_paper))"
   ]
  },
  {
   "cell_type": "markdown",
   "metadata": {},
   "source": [
    "### Memory Hog Way"
   ]
  },
  {
   "cell_type": "code",
   "execution_count": 11,
   "metadata": {},
   "outputs": [
    {
     "name": "stdout",
     "output_type": "stream",
     "text": [
      "Kernel Matrix: (355, 151)\n",
      "Weights: (151,)\n",
      "X train: (151, 13)\n",
      "X test: (355, 13)\n",
      "Derivative (Memory): 0.0193 secs\n",
      "Derivative shape: (355, 13)\n"
     ]
    }
   ],
   "source": [
    "print('Kernel Matrix:', format(kernel_mat.shape))\n",
    "print('Weights:', format(weights.shape))\n",
    "print('X train:', format(x_train.shape))\n",
    "print('X test:', format(x_test.shape))\n",
    "\n",
    "t0 = time.time()\n",
    "\n",
    "derivative['memory'] = rbf_derivative_memory(x_train, x_test, weights, gamma)\n",
    "t1_memory = time.time() - t0\n",
    "\n",
    "print('Derivative (Memory): {:.4f} secs'.format(t1_memory))\n",
    "print('Derivative shape: {}'.format(derivative['memory'].shape))"
   ]
  },
  {
   "cell_type": "code",
   "execution_count": 12,
   "metadata": {},
   "outputs": [
    {
     "name": "stdout",
     "output_type": "stream",
     "text": [
      "Speedup (slow): x35.9\n",
      "Speedup (paper): x4.5\n",
      "16.1 ms ± 1.13 ms per loop (mean ± std. dev. of 7 runs, 100 loops each)\n"
     ]
    }
   ],
   "source": [
    "np.testing.assert_array_almost_equal(derivative['paper'],\n",
    "                                     derivative['memory'])\n",
    "print('Speedup (slow): x{:.1f}'.format(t1_slow/t1_memory))\n",
    "print('Speedup (paper): x{:.1f}'.format(t1_memory/t1_paper))\n",
    "\n",
    "%timeit rbf_derivative_memory(x_train, x_test, weights, gamma)"
   ]
  },
  {
   "cell_type": "markdown",
   "metadata": {},
   "source": [
    "### GPs (ARD Kernel)"
   ]
  },
  {
   "cell_type": "code",
   "execution_count": 13,
   "metadata": {},
   "outputs": [],
   "source": [
    "from sklearn.gaussian_process import GaussianProcessRegressor\n",
    "from sklearn.gaussian_process.kernels import ConstantKernel, RBF, WhiteKernel"
   ]
  },
  {
   "cell_type": "code",
   "execution_count": 14,
   "metadata": {},
   "outputs": [
    {
     "name": "stdout",
     "output_type": "stream",
     "text": [
      "MSE, GPR: 0.2699\n"
     ]
    }
   ],
   "source": [
    "kernel = RBF(length_scale=np.repeat(1.0,x_train.shape[1]),\n",
    "             length_scale_bounds=(1e-2, 1e2))    \n",
    "gpr_model = GaussianProcessRegressor(kernel=kernel, n_restarts_optimizer=4)\n",
    "\n",
    "gpr_model.fit(x_train, y_train)\n",
    "\n",
    "y_pred['gpr'] = gpr_model.predict(x_test)\n",
    "\n",
    "\n",
    "mse['gpr'] = mean_squared_error(y_pred['gpr'], y_test)\n",
    "\n",
    "print('MSE, GPR: {:.4f}'.format(mse['gpr']))"
   ]
  },
  {
   "cell_type": "code",
   "execution_count": 15,
   "metadata": {},
   "outputs": [
    {
     "name": "stdout",
     "output_type": "stream",
     "text": [
      "{'length_scale': array([   1.83453438,   32.97706877,  100.        ,    2.94829116,\n",
      "          1.49420516,    1.51240221,    1.59413373,  100.        ,\n",
      "          0.94157534,    0.70380556,    2.58995062,    2.79771452,\n",
      "          0.82886236]), 'length_scale_bounds': (0.01, 100.0)}\n"
     ]
    }
   ],
   "source": [
    "print(gpr_model.kernel_.get_params())\n",
    "weights = gpr_model.alpha_\n",
    "length_scale = gpr_model.kernel_.get_params()['length_scale']\n",
    "gp_kernel = gpr_model.kernel_"
   ]
  },
  {
   "cell_type": "code",
   "execution_count": 16,
   "metadata": {},
   "outputs": [
    {
     "name": "stdout",
     "output_type": "stream",
     "text": [
      "(355, 151) (355, 151)\n"
     ]
    }
   ],
   "source": [
    "from derivatives import ard_kernel\n",
    "\n",
    "kernel_mat_ard = ard_kernel(x_test, x_train, length_scale)\n",
    "\n",
    "kernel_mat_built = gp_kernel(x_test, x_train)\n",
    "\n",
    "print(kernel_mat_ard.shape, kernel_mat_built.shape)\n",
    "\n",
    "np.testing.assert_array_almost_equal(kernel_mat_ard, kernel_mat_built)"
   ]
  },
  {
   "cell_type": "code",
   "execution_count": 17,
   "metadata": {},
   "outputs": [
    {
     "name": "stdout",
     "output_type": "stream",
     "text": [
      "Kernel Matrix: (151, 355)\n",
      "Weights: (151,)\n"
     ]
    }
   ],
   "source": [
    "kernel_mat = rbf_kernel(x_train, x_test, gamma=gamma)\n",
    "print('Kernel Matrix:', kernel_mat.shape)\n",
    "print('Weights:', weights.shape)"
   ]
  },
  {
   "cell_type": "code",
   "execution_count": 18,
   "metadata": {},
   "outputs": [],
   "source": [
    "def ard_paper(x_train, x_test, weights, gamma):\n",
    "    \n",
    "    kernel_mat = ard_kernel(x_test, x_train, gamma)\n",
    "    \n",
    "    num_test = x_test.shape[0]\n",
    "    \n",
    "    derivative = np.zeros(shape=x_test.shape)\n",
    "    \n",
    "    for itest in range(num_test):\n",
    "        \n",
    "        derivative= \\\n",
    "        np.dot((x_test[itest, :] - x_train).T,\n",
    "               (kernel_mat[itest, :] * weights).T)\n",
    "        \n",
    "    derivative *= - 1 / gamma**2\n",
    "    return derivative"
   ]
  },
  {
   "cell_type": "code",
   "execution_count": 19,
   "metadata": {},
   "outputs": [
    {
     "name": "stdout",
     "output_type": "stream",
     "text": [
      "Derivative (ard): 0.0044 secs\n",
      "Derivative ard: (355, 13)\n"
     ]
    }
   ],
   "source": [
    "from derivatives import ard_derivative\n",
    "\n",
    "num_test = x_test.shape[0]\n",
    "derivative['ard'] = np.zeros(shape=x_test.shape)\n",
    "kernel_mat = rbf_kernel(x_test, x_train, gamma=gamma)\n",
    "constant = 2 * gamma\n",
    "t0 = time.time()\n",
    "# for itest in range(num_test):\n",
    "#     derivative['paper'][itest, :] = \\\n",
    "#     np.dot((x_test[itest, :] - x_train).T, (kernel_mat[itest, :] * weights).T)\n",
    "# derivative['paper'] *= - 2 * gamma\n",
    "\n",
    "derivative['ard'] = ard_derivative(x_train, x_test, weights, gamma)\n",
    "\n",
    "t1_paper = time.time() - t0\n",
    "print('Derivative (ard): {:.4f} secs'.format(t1_paper))\n",
    "print('Derivative ard:', derivative['ard'].shape)"
   ]
  },
  {
   "cell_type": "markdown",
   "metadata": {},
   "source": [
    "### Cython"
   ]
  },
  {
   "cell_type": "code",
   "execution_count": 20,
   "metadata": {},
   "outputs": [],
   "source": [
    "%load_ext cython"
   ]
  },
  {
   "cell_type": "code",
   "execution_count": 21,
   "metadata": {},
   "outputs": [],
   "source": [
    "%%cython\n",
    "\n",
    "cimport cython\n",
    "import numpy as np\n",
    "cimport numpy as np\n",
    "\n",
    "@cython.boundscheck(False)\n",
    "@cython.wraparound(False)\n",
    "def rbf_cython(np.float64_t[:, :] x_train, \n",
    "                   np.float64_t[:, :] x_function,\n",
    "                   np.float64_t[:] weights,\n",
    "                   np.float64_t[:, :] kernel_mat,\n",
    "                   np.float64_t gamma):\n",
    "    \"\"\"This function calculates the rbf derivative using\n",
    "    Cython. It has been fairly optimized and provides x100\n",
    "    speedup over the original python function.\n",
    "    \n",
    "    Parameters\n",
    "    ----------\n",
    "    x_train : array, [N x D], float64\n",
    "        The training data used to find the kernel model.\n",
    "\n",
    "    x_function  : array, [M x D], float\n",
    "        The test points (or vector) to use.\n",
    "\n",
    "    weights   : array, [N x D], float64\n",
    "        The weights found from the kernel model\n",
    "            y = K * weights\n",
    "\n",
    "    kernel_mat: array, [N x M], float64\n",
    "        The rbf kernel matrix with the similarities between the test\n",
    "        points and the training points.\n",
    "\n",
    "    n_derivative : int, (default = 1) {1, 2}, int\n",
    "        chooses which nth derivative to calculate\n",
    "\n",
    "    gamma : float, default: None, float64\n",
    "        the parameter for the rbf_kernel matrix function\n",
    "\n",
    "    Returns\n",
    "    -------\n",
    "\n",
    "    derivative : array, [M x D], float64\n",
    "        returns the derivative with respect to training points used in\n",
    "        the kernel model and the test points.\n",
    "\n",
    "    Information\n",
    "    -----------\n",
    "    Author: Juan Emmanuel Johnson\n",
    "    Email : jej2744@rit.edu\n",
    "            juan.johnson@uv.es\n",
    "    \"\"\"\n",
    "    cdef int d_dimensions = x_function.shape[1]\n",
    "    cdef int n_test = x_function.shape[0]\n",
    "    cdef int n_train = x_train.shape[0]\n",
    "    cdef int idim, iTest, iTrain\n",
    "    \n",
    "    # initialize the derivative\n",
    "    cdef np.float64_t[:,:] derivative = np.zeros((n_test, d_dimensions))\n",
    "\n",
    "    # consolidate the parameters\n",
    "    cdef np.float64_t theta = 2.0 * gamma\n",
    "\n",
    "        \n",
    "    # loop through dimensions\n",
    "    for idim in range(d_dimensions):\n",
    "\n",
    "        # loop through the number of test points\n",
    "        for iTest in range(n_test):\n",
    "\n",
    "            # loop through the number of test points\n",
    "            for iTrain in range(n_train):\n",
    "\n",
    "                # calculate the derivative for the test points\n",
    "                derivative[iTest, idim] += theta * weights[iTrain] * \\\n",
    "                                          (x_train[iTrain, idim] -\n",
    "                                           x_function[iTest, idim]) * \\\n",
    "                                          kernel_mat[iTrain, iTest]\n",
    "                            \n",
    "    return np.asarray(derivative)"
   ]
  },
  {
   "cell_type": "code",
   "execution_count": 22,
   "metadata": {},
   "outputs": [
    {
     "name": "stdout",
     "output_type": "stream",
     "text": [
      "Derivative (cython): 0.0094 secs\n",
      "Derivative shape: (355, 13)\n"
     ]
    }
   ],
   "source": [
    "t0 = time.time()\n",
    "\n",
    "kernel_mat = rbf_kernel(x_train, x_test, gamma)\n",
    "\n",
    "derivative['cython'] = rbf_cython(x_train,\n",
    "                                  x_test,\n",
    "                                  weights,\n",
    "                                  kernel_mat,\n",
    "                                  gamma)\n",
    "t1cython = time.time() - t0\n",
    "print('Derivative (cython): {:.4f} secs'.format(t1cython))\n",
    "print('Derivative shape: {}'.format(derivative['cython'].shape))"
   ]
  },
  {
   "cell_type": "code",
   "execution_count": 23,
   "metadata": {},
   "outputs": [
    {
     "name": "stdout",
     "output_type": "stream",
     "text": [
      "776 µs ± 5.24 µs per loop (mean ± std. dev. of 7 runs, 1000 loops each)\n"
     ]
    }
   ],
   "source": [
    "time_cy = %timeit -o rbf_cython(x_train,x_test,weights,kernel_mat,gamma)"
   ]
  },
  {
   "cell_type": "code",
   "execution_count": 24,
   "metadata": {},
   "outputs": [
    {
     "name": "stdout",
     "output_type": "stream",
     "text": [
      "776 µs ± 5.24 µs per loop (mean ± std. dev. of 7 runs, 1000 loops each)\n"
     ]
    }
   ],
   "source": [
    "print(time_cy)"
   ]
  },
  {
   "cell_type": "markdown",
   "metadata": {},
   "source": [
    "#### Cython (Parallel)"
   ]
  },
  {
   "cell_type": "code",
   "execution_count": 25,
   "metadata": {},
   "outputs": [],
   "source": [
    "%%cython\n",
    "\n",
    "cimport cython\n",
    "import numpy as np\n",
    "cimport numpy as np\n",
    "from cython.parallel import prange\n",
    "\n",
    "@cython.boundscheck(False)\n",
    "@cython.wraparound(False)\n",
    "def rbf_cython_parallel(np.float64_t[:, :] x_train, \n",
    "                   np.float64_t[:, :] x_function,\n",
    "                   np.float64_t[:] weights,\n",
    "                   np.float64_t[:, :] kernel_mat,\n",
    "                   np.float64_t gamma):\n",
    "    \"\"\"This function calculates the rbf derivative using\n",
    "    Cython. It has been fairly optimized and provides x100\n",
    "    speedup over the original python function.\n",
    "    \n",
    "    Parameters\n",
    "    ----------\n",
    "    x_train : array, [N x D], float64\n",
    "        The training data used to find the kernel model.\n",
    "\n",
    "    x_function  : array, [M x D], float\n",
    "        The test points (or vector) to use.\n",
    "\n",
    "    weights   : array, [N x D], float64\n",
    "        The weights found from the kernel model\n",
    "            y = K * weights\n",
    "\n",
    "    kernel_mat: array, [N x M], float64\n",
    "        The rbf kernel matrix with the similarities between the test\n",
    "        points and the training points.\n",
    "\n",
    "    n_derivative : int, (default = 1) {1, 2}, int\n",
    "        chooses which nth derivative to calculate\n",
    "\n",
    "    gamma : float, default: None, float64\n",
    "        the parameter for the rbf_kernel matrix function\n",
    "\n",
    "    Returns\n",
    "    -------\n",
    "\n",
    "    derivative : array, [M x D], float64\n",
    "        returns the derivative with respect to training points used in\n",
    "        the kernel model and the test points.\n",
    "\n",
    "    Information\n",
    "    -----------\n",
    "    Author: Juan Emmanuel Johnson\n",
    "    Email : jej2744@rit.edu\n",
    "            juan.johnson@uv.es\n",
    "    \"\"\"\n",
    "    cdef int d_dimensions = x_function.shape[1]\n",
    "    cdef int n_test = x_function.shape[0]\n",
    "    cdef int n_train = x_train.shape[0]\n",
    "    cdef int idim, iTest, iTrain\n",
    "    \n",
    "    # initialize the derivative\n",
    "    cdef np.float64_t[:,:] derivative = np.zeros((n_test, d_dimensions))\n",
    "\n",
    "    # consolidate the parameters\n",
    "    cdef np.float64_t theta = 2.0 * gamma\n",
    "\n",
    "        \n",
    "    # loop through dimensions\n",
    "    for idim in prange(d_dimensions, nogil=True):\n",
    "\n",
    "        # loop through the number of test points\n",
    "        for iTest in prange(n_test):\n",
    "\n",
    "            # loop through the number of test points\n",
    "            for iTrain in prange(n_train):\n",
    "\n",
    "                # calculate the derivative for the test points\n",
    "                derivative[iTest, idim] += theta * weights[iTrain] * \\\n",
    "                                          (x_train[iTrain, idim] -\n",
    "                                           x_function[iTest, idim]) * \\\n",
    "                                          kernel_mat[iTrain, iTest]\n",
    "                            \n",
    "    return np.asarray(derivative)"
   ]
  },
  {
   "cell_type": "code",
   "execution_count": 27,
   "metadata": {},
   "outputs": [
    {
     "name": "stdout",
     "output_type": "stream",
     "text": [
      "835 µs ± 58.7 µs per loop (mean ± std. dev. of 7 runs, 1000 loops each)\n"
     ]
    }
   ],
   "source": [
    "%timeit rbf_cython_parallel(x_train,x_test,weights,kernel_mat,gamma)"
   ]
  },
  {
   "cell_type": "code",
   "execution_count": null,
   "metadata": {},
   "outputs": [],
   "source": []
  }
 ],
 "metadata": {
  "kernelspec": {
   "display_name": "Python 3",
   "language": "python",
   "name": "python3"
  },
  "language_info": {
   "codemirror_mode": {
    "name": "ipython",
    "version": 3
   },
   "file_extension": ".py",
   "mimetype": "text/x-python",
   "name": "python",
   "nbconvert_exporter": "python",
   "pygments_lexer": "ipython3",
   "version": "3.6.2"
  }
 },
 "nbformat": 4,
 "nbformat_minor": 2
}
