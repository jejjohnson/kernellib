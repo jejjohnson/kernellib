{
 "cells": [
  {
   "cell_type": "code",
   "execution_count": 1,
   "metadata": {},
   "outputs": [],
   "source": [
    "import pandas as pd\n",
    "import numpy as np\n",
    "from sklearn.model_selection import train_test_split\n",
    "from sklearn.metrics import pairwise_kernels\n",
    "from sklearn.metrics import mean_squared_error\n",
    "from sklearn.kernel_ridge import KernelRidge\n",
    "from sklearn.datasets import fetch_mldata\n",
    "from sklearn.utils import check_random_state\n",
    "from sklearn.kernel_approximation import Nystroem\n",
    "from nystrom import nystrom_kernel\n",
    "from scipy.spatial.distance import pdist\n",
    "\n",
    "from time import time"
   ]
  },
  {
   "cell_type": "code",
   "execution_count": 2,
   "metadata": {},
   "outputs": [],
   "source": [
    "# data = fetch_mldata('regression-datasets house_16H').data\n",
    "# n\n",
    "# X = data[:, [1]]\n",
    "# y = data[:, 0]\n",
    "\n",
    "# print(X, y)"
   ]
  },
  {
   "cell_type": "code",
   "execution_count": 3,
   "metadata": {},
   "outputs": [
    {
     "name": "stdout",
     "output_type": "stream",
     "text": [
      "Size of x_train: (10000, 1)\n",
      "Size of x_train: (1000, 1)\n"
     ]
    }
   ],
   "source": [
    "n_train_samples = 1e4\n",
    "n_test_samples = 1e3\n",
    "d_dims = 1\n",
    "random_state = 123\n",
    "\n",
    "generator = check_random_state(random_state)\n",
    "x_train = generator.randn(int(n_train_samples))\n",
    "y_train = np.sin(x_train) * 0.1 * generator.randn(int(n_train_samples))\n",
    "\n",
    "x_test = generator.randn(int(n_test_samples))\n",
    "y_test = np.sin(x_test) * 0.1 * generator.randn(int(n_test_samples))\n",
    "\n",
    "x_train = x_train[:, np.newaxis]\n",
    "x_test = x_test[:, np.newaxis]\n",
    "y_train = y_train[:, np.newaxis]\n",
    "y_test = y_test[:, np.newaxis]\n",
    "\n",
    "print('Size of x_train: {}'.format(x_train.shape))\n",
    "print('Size of x_train: {}'.format(x_test.shape))"
   ]
  },
  {
   "cell_type": "code",
   "execution_count": 18,
   "metadata": {},
   "outputs": [],
   "source": [
    "n_samples = 100  # number of samples\n",
    "k_rank = 10      # rank for rsvd\n",
    "n_components = 100 # number of components to keep\n",
    "lam = 1e-3  # regularization parameter\n",
    "kernel = 'rbf'\n",
    "sigma = np.mean(pdist(x_train, metric='euclidean'))\n",
    "gamma = 1 / (2 * sigma**2)"
   ]
  },
  {
   "cell_type": "markdown",
   "metadata": {},
   "source": [
    "### Scikit-Learn (Naive)"
   ]
  },
  {
   "cell_type": "code",
   "execution_count": 19,
   "metadata": {},
   "outputs": [
    {
     "name": "stdout",
     "output_type": "stream",
     "text": [
      "Time taken for normal: 10.094844 secs\n"
     ]
    }
   ],
   "source": [
    "t0 = time()\n",
    "\n",
    "krr_model = KernelRidge(alpha=lam, kernel=kernel, gamma=gamma)\n",
    "krr_model.fit(x_train, y_train)\n",
    "\n",
    "t1 = time() - t0\n",
    "print('Time taken for normal: {:4f} secs'.format(t1))"
   ]
  },
  {
   "cell_type": "code",
   "execution_count": 20,
   "metadata": {},
   "outputs": [
    {
     "name": "stdout",
     "output_type": "stream",
     "text": [
      "0.00414979449472\n"
     ]
    }
   ],
   "source": [
    "y_pred_normal = krr_model.predict(x_test)\n",
    "\n",
    "error_normal = mean_squared_error(y_pred_normal.squeeze(),\n",
    "                                  y_test.squeeze())\n",
    "print(error_normal)"
   ]
  },
  {
   "cell_type": "markdown",
   "metadata": {},
   "source": [
    "### Scikit-Learn (Nystrom Approximation)"
   ]
  },
  {
   "cell_type": "code",
   "execution_count": 27,
   "metadata": {},
   "outputs": [
    {
     "name": "stdout",
     "output_type": "stream",
     "text": [
      "Time taken for Nystrom Approximation: 0.0440 secs\n",
      "Size of L: (10000, 100)\n"
     ]
    }
   ],
   "source": [
    "t0 = time()\n",
    "nystrom = Nystroem(kernel=kernel, \n",
    "                   n_components=n_components,\n",
    "                   gamma=gamma,\n",
    "                   random_state=random_state)\n",
    "\n",
    "L = nystrom.fit_transform(x_train)\n",
    "\n",
    "t1 = time() - t0\n",
    "print('Time taken for Nystrom Approximation: {:.4f} secs'.format(t1))\n",
    "\n",
    "print('Size of L: {}'.format(L.shape))"
   ]
  },
  {
   "cell_type": "code",
   "execution_count": 22,
   "metadata": {},
   "outputs": [
    {
     "name": "stdout",
     "output_type": "stream",
     "text": [
      "Time taken for KRR Training: 0.0094 secs\n"
     ]
    }
   ],
   "source": [
    "# KRR Training\n",
    "\n",
    "t0 = time()\n",
    "\n",
    "temp = L.T.dot(y_train)\n",
    "temp = np.linalg.solve(lam * np.eye(L.shape[1]) + L.T.dot(L), temp)\n",
    "weights_nystrom = y_train - L.dot(temp)\n",
    "weights_nystrom /= lam\n",
    "\n",
    "t1 = time() - t0\n",
    "print('Time taken for KRR Training: {:.4f} secs'.format(t1))"
   ]
  },
  {
   "cell_type": "code",
   "execution_count": 23,
   "metadata": {},
   "outputs": [
    {
     "name": "stdout",
     "output_type": "stream",
     "text": [
      "0.00414984036403\n",
      "4.58693137553e-08\n"
     ]
    }
   ],
   "source": [
    "# KRR Predictions\n",
    "K_test = pairwise_kernels(x_train, Y=x_test, metric='rbf', gamma=gamma)\n",
    "y_pred_nystrom = K_test.T.dot(weights_nystrom)\n",
    "error_nystrom = mean_squared_error(y_pred_nystrom.squeeze(),\n",
    "                                   y_test.squeeze())\n",
    "print(error_nystrom)\n",
    "\n",
    "print(np.abs(error_normal - error_nystrom))"
   ]
  },
  {
   "cell_type": "markdown",
   "metadata": {},
   "source": [
    "### Nystrom w/ RSVD"
   ]
  },
  {
   "cell_type": "code",
   "execution_count": 24,
   "metadata": {},
   "outputs": [
    {
     "name": "stdout",
     "output_type": "stream",
     "text": [
      "Time taken for Nystrom Approximation: 0.0361 secs\n"
     ]
    }
   ],
   "source": [
    "from sklearn.utils.extmath import randomized_svd\n",
    "# KRR Training\n",
    "\n",
    "t0 = time()\n",
    "\n",
    "k_rank = 50\n",
    "\n",
    "rnd = check_random_state(random_state)\n",
    "inds = rnd.permutation(n_samples)\n",
    "basis_inds = inds[:n_components]\n",
    "basis = x_train[basis_inds]\n",
    "\n",
    "basis_kernel = pairwise_kernels(basis, metric=kernel,\n",
    "                                gamma=gamma)\n",
    "\n",
    "# RSVD\n",
    "U, S, V = randomized_svd(basis_kernel, k_rank)\n",
    "\n",
    "S = np.maximum(S, 1e-12)\n",
    "normalization = np.dot(U / np.sqrt(S), V)\n",
    "components = basis\n",
    "component_indices = inds\n",
    "\n",
    "embedding = pairwise_kernels(x_train, Y=components,\n",
    "                             metric=kernel, gamma=gamma)\n",
    "\n",
    "Lr = np.dot(embedding, normalization)\n",
    "\n",
    "t1 = time() - t0\n",
    "print('Time taken for Nystrom Approximation: {:.4f} secs'.format(t1))\n"
   ]
  },
  {
   "cell_type": "code",
   "execution_count": 25,
   "metadata": {},
   "outputs": [
    {
     "name": "stdout",
     "output_type": "stream",
     "text": [
      "Time taken for KRR Training: 0.0096 secs\n"
     ]
    }
   ],
   "source": [
    "t0 = time()\n",
    "\n",
    "temp = Lr.T.dot(y_train)\n",
    "temp = np.linalg.solve(lam * np.eye(Lr.shape[1]) + Lr.T.dot(Lr), temp)\n",
    "weights_rnystrom = y_train - Lr.dot(temp)\n",
    "weights_rnystrom /= lam\n",
    "\n",
    "t1 = time() - t0\n",
    "print('Time taken for KRR Training: {:.4f} secs'.format(t1))"
   ]
  },
  {
   "cell_type": "code",
   "execution_count": 26,
   "metadata": {},
   "outputs": [
    {
     "name": "stdout",
     "output_type": "stream",
     "text": [
      "0.00414984036403\n",
      "2.49666620156e-08\n",
      "2.09026517397e-08\n"
     ]
    }
   ],
   "source": [
    "# KRR Predictions\n",
    "K_test = pairwise_kernels(x_train, Y=x_test, metric='rbf', gamma=gamma)\n",
    "y_pred_rnystrom = K_test.T.dot(weights_rnystrom)\n",
    "error_rnystrom = mean_squared_error(y_pred_rnystrom.squeeze(), y_test.squeeze())\n",
    "print(error_nystrom)\n",
    "\n",
    "print(np.abs(error_normal - error_rnystrom))\n",
    "print(np.abs(error_nystrom - error_rnystrom))"
   ]
  },
  {
   "cell_type": "markdown",
   "metadata": {},
   "source": [
    "### Training"
   ]
  },
  {
   "cell_type": "code",
   "execution_count": 8,
   "metadata": {},
   "outputs": [
    {
     "name": "stdout",
     "output_type": "stream",
     "text": [
      "Time taken for kernel mat: 1.7629 secs\n",
      "Shape of K: (10000, 10000)\n"
     ]
    }
   ],
   "source": [
    "n_samples = 100  # number of samples\n",
    "n_components = 100 # number of components to keep\n",
    "lam = 1e-3  # regularization parameter\n",
    "\n",
    "t0 = time()\n",
    "K = pairwise_kernels(x_train, metric='rbf')\n",
    "t1 = time() - t0\n",
    "print('Time taken for kernel mat: {:.4f} secs'.format(t1))\n",
    "\n",
    "print('Shape of K: {}'.format(K.shape))"
   ]
  },
  {
   "cell_type": "markdown",
   "metadata": {},
   "source": [
    "#### Nystrom Approximation"
   ]
  },
  {
   "cell_type": "code",
   "execution_count": 5,
   "metadata": {},
   "outputs": [
    {
     "name": "stdout",
     "output_type": "stream",
     "text": [
      "Size of U_approx: (10000, 1000)\n",
      "Size of D_approx: (1000, 1000)\n",
      "Size of W_approx: (1000, 1000)\n",
      "Size of C: (10000, 1000)\n"
     ]
    }
   ],
   "source": [
    "# -------------------\n",
    "# Randomized\n",
    "# -------------------\n",
    "\n",
    "n_col_indices = 1000 # number of columns to sample\n",
    "n_components = 1000  # rank\n",
    "random_state = 123  # reproducibility\n",
    "svd = 'randomized'  # svd algorithm\n",
    "\n",
    "U_approx, D_approx, W_approx, C = nystrom_kernel(\n",
    "    K, n_col_indices, n_components=n_components, \n",
    "    random_state=random_state, \n",
    "    svd=svd)\n",
    "\n",
    "print('Size of U_approx: {}'.format(U_approx.shape))\n",
    "print('Size of D_approx: {}'.format(D_approx.shape))\n",
    "print('Size of W_approx: {}'.format(W_approx.shape))\n",
    "print('Size of C: {}'.format(C.shape))"
   ]
  },
  {
   "cell_type": "code",
   "execution_count": 6,
   "metadata": {},
   "outputs": [
    {
     "name": "stdout",
     "output_type": "stream",
     "text": [
      "Error (randomized): 9.779e-03\n",
      "Error (randomized) CWC.T: 2.956e-01\n"
     ]
    }
   ],
   "source": [
    "K_approx = U_approx.dot(D_approx).dot(U_approx.T)\n",
    "K_approx2 = C.dot(np.linalg.pinv(W_approx)).dot(C.T)\n",
    "\n",
    "err = np.linalg.norm(K - K_approx, 'fro')\n",
    "err_2 = np.linalg.norm(K - K_approx2, 'fro')\n",
    "print('Error ({}): {:.3e}'.format(svd, err))\n",
    "print('Error ({}) CWC.T: {:.3e}'.format(svd, err_2))"
   ]
  },
  {
   "cell_type": "code",
   "execution_count": 40,
   "metadata": {},
   "outputs": [
    {
     "name": "stdout",
     "output_type": "stream",
     "text": [
      "Time taken for normal: 43.450791 secs\n"
     ]
    }
   ],
   "source": []
  },
  {
   "cell_type": "code",
   "execution_count": 8,
   "metadata": {},
   "outputs": [
    {
     "name": "stdout",
     "output_type": "stream",
     "text": [
      "Time taken for normal: 7.785578 secs\n"
     ]
    }
   ],
   "source": [
    "t0 = time()\n",
    "W_pinverse = np.linalg.pinv(W_approx)\n",
    "\n",
    "inverse = np.linalg.pinv(np.eye(n_col_indices) + \n",
    "                         W_pinverse.dot(C.T).dot(C))\n",
    "W_inverse = np.linalg.inv(W_approx)\n",
    "\n",
    "mat_prod = C.dot(inverse).dot(W_inverse).dot(C.T)\n",
    "weights_nystrom = (1/lam) * (lam * np.eye(int(n_train_samples)) - mat_prod).dot(y_train)\n",
    "\n",
    "t1 = time() - t0\n",
    "print('Time taken for normal: {:4f} secs'.format(t1))"
   ]
  },
  {
   "cell_type": "code",
   "execution_count": 48,
   "metadata": {},
   "outputs": [
    {
     "name": "stdout",
     "output_type": "stream",
     "text": [
      "Size of weights: (10000, 1)\n",
      "Size of weights (nystrom): (10000, 1)\n",
      "Size of y_train: (10000, 1)\n"
     ]
    }
   ],
   "source": [
    "print('Size of weights: {}'.format(weights.shape))\n",
    "print('Size of weights (nystrom): {}'.format(weights_nystrom.shape))\n",
    "print('Size of y_train: {}'.format(y_train.shape))"
   ]
  },
  {
   "cell_type": "code",
   "execution_count": 9,
   "metadata": {},
   "outputs": [],
   "source": [
    "from sklearn.metrics import mean_squared_error\n"
   ]
  },
  {
   "cell_type": "code",
   "execution_count": 49,
   "metadata": {},
   "outputs": [
    {
     "name": "stdout",
     "output_type": "stream",
     "text": [
      "(10000, 10000) (10000, 1)\n",
      "(1000, 1) (1000, 1)\n",
      "0.00416038639092\n"
     ]
    }
   ],
   "source": [
    "\n",
    "K_test = pairwise_kernels(x_train, Y=x_test, metric='rbf')\n",
    "print(K.shape, weights.shape)\n",
    "y_pred = K_test.T.dot(weights)\n",
    "\n",
    "print(y_pred.shape, y_test.shape)\n",
    "error_normal = mean_squared_error(y_pred.squeeze(), y_test.squeeze())\n",
    "print(error_normal)"
   ]
  },
  {
   "cell_type": "code",
   "execution_count": 11,
   "metadata": {},
   "outputs": [
    {
     "name": "stdout",
     "output_type": "stream",
     "text": [
      "(1000, 1) (1000, 1)\n",
      "21452478184.9\n"
     ]
    }
   ],
   "source": [
    "K_test = pairwise_kernels(x_train, Y=x_test, metric='rbf')\n",
    "y_pred_ny = K_test.T.dot(weights_nystrom)\n",
    "\n",
    "print(y_pred_ny.shape, y_test.shape)\n",
    "error_nystrom = mean_squared_error(y_pred_ny, y_test)\n",
    "print(error_nystrom)"
   ]
  },
  {
   "cell_type": "code",
   "execution_count": null,
   "metadata": {},
   "outputs": [],
   "source": []
  }
 ],
 "metadata": {
  "kernelspec": {
   "display_name": "Python 3",
   "language": "python",
   "name": "python3"
  },
  "language_info": {
   "codemirror_mode": {
    "name": "ipython",
    "version": 3
   },
   "file_extension": ".py",
   "mimetype": "text/x-python",
   "name": "python",
   "nbconvert_exporter": "python",
   "pygments_lexer": "ipython3",
   "version": "3.6.4"
  }
 },
 "nbformat": 4,
 "nbformat_minor": 2
}
